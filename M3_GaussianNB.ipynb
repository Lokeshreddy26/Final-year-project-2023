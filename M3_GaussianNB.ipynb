{
  "cells": [
    {
      "cell_type": "markdown",
      "metadata": {
        "id": "view-in-github",
        "colab_type": "text"
      },
      "source": [
        "<a href=\"https://colab.research.google.com/github/Lokeshreddy26/Final-year-project-2023/blob/main/M3_GaussianNB.ipynb\" target=\"_parent\"><img src=\"https://colab.research.google.com/assets/colab-badge.svg\" alt=\"Open In Colab\"/></a>"
      ]
    },
    {
      "cell_type": "code",
      "execution_count": null,
      "metadata": {
        "id": "AucdvmtH83Qc"
      },
      "outputs": [],
      "source": [
        "# Module 3 : Performance measurements of Naive Bayes"
      ],
      "id": "AucdvmtH83Qc"
    },
    {
      "cell_type": "code",
      "execution_count": null,
      "metadata": {
        "id": "wFDklVfN83Qq"
      },
      "outputs": [],
      "source": [
        "#import library packages\n",
        "import pandas as p\n",
        "import matplotlib.pyplot as plt\n",
        "import seaborn as s\n",
        "import numpy as n"
      ],
      "id": "wFDklVfN83Qq"
    },
    {
      "cell_type": "code",
      "execution_count": null,
      "metadata": {
        "id": "FBjZcQz_83Qt"
      },
      "outputs": [],
      "source": [
        "import warnings\n",
        "warnings.filterwarnings('ignore')"
      ],
      "id": "FBjZcQz_83Qt"
    },
    {
      "cell_type": "code",
      "execution_count": null,
      "metadata": {
        "id": "gLq2TUYI83Qv"
      },
      "outputs": [],
      "source": [
        "data=p.read_excel('WSND.xlsx')"
      ],
      "id": "gLq2TUYI83Qv"
    },
    {
      "cell_type": "code",
      "execution_count": null,
      "metadata": {
        "id": "5JK7mHuZ83Qw"
      },
      "outputs": [],
      "source": [
        "df=data.dropna()"
      ],
      "id": "5JK7mHuZ83Qw"
    },
    {
      "cell_type": "code",
      "execution_count": null,
      "metadata": {
        "id": "JDLWK7Ls83Qy",
        "outputId": "a34bf45d-8e8a-48a4-8dfe-88c713cc9b18"
      },
      "outputs": [
        {
          "data": {
            "text/plain": [
              "Index(['Id', 'Time', 'Is_CH', 'Who_CH', 'Dist_To_CH', 'ADV_S', 'ADV_R',\n",
              "       'JOIN_S', 'JOIN_R', 'SCH_S', 'SCH_R', 'Rank', 'DATA_S', 'DATA_R',\n",
              "       'Data_Sent_To_BS', 'Dist_CH_To_BS', 'Send_code', 'Consumed_Energy',\n",
              "       'Attack_Type'],\n",
              "      dtype='object')"
            ]
          },
          "execution_count": 6,
          "metadata": {},
          "output_type": "execute_result"
        }
      ],
      "source": [
        "df.columns"
      ],
      "id": "JDLWK7Ls83Qy"
    },
    {
      "cell_type": "code",
      "execution_count": null,
      "metadata": {
        "id": "UNOVWfFo83Q1"
      },
      "outputs": [],
      "source": [
        "del df['Id']\n",
        "del df['Time']\n",
        "del df['Is_CH']\n",
        "del df['JOIN_R']\n",
        "del df['DATA_R']"
      ],
      "id": "UNOVWfFo83Q1"
    },
    {
      "cell_type": "code",
      "execution_count": null,
      "metadata": {
        "id": "997wPSJC83Q3",
        "outputId": "00494e73-7e60-4242-a2a3-66515d6feea2"
      },
      "outputs": [
        {
          "data": {
            "text/plain": [
              "Index(['Who_CH', 'Dist_To_CH', 'ADV_S', 'ADV_R', 'JOIN_S', 'SCH_S', 'SCH_R',\n",
              "       'Rank', 'DATA_S', 'Data_Sent_To_BS', 'Dist_CH_To_BS', 'Send_code',\n",
              "       'Consumed_Energy', 'Attack_Type'],\n",
              "      dtype='object')"
            ]
          },
          "execution_count": 8,
          "metadata": {},
          "output_type": "execute_result"
        }
      ],
      "source": [
        "df.columns"
      ],
      "id": "997wPSJC83Q3"
    },
    {
      "cell_type": "code",
      "execution_count": null,
      "metadata": {
        "id": "nAv5KaYN83Q6"
      },
      "outputs": [],
      "source": [
        "from sklearn.preprocessing import LabelEncoder\n",
        "var_mod = ['Attack_Type']\n",
        "le = LabelEncoder()\n",
        "for i in var_mod:\n",
        "    df[i] = le.fit_transform(df[i]).astype(int)"
      ],
      "id": "nAv5KaYN83Q6"
    },
    {
      "cell_type": "code",
      "execution_count": null,
      "metadata": {
        "id": "NF3LldxL83Q8"
      },
      "outputs": [],
      "source": [
        "#preprocessing, split test and dataset, split response variable\n",
        "X = df.drop(labels='Attack_Type', axis=1)\n",
        "#Response variable\n",
        "y = df.loc[:,'Attack_Type']    "
      ],
      "id": "NF3LldxL83Q8"
    },
    {
      "cell_type": "code",
      "execution_count": null,
      "metadata": {
        "id": "GXwZ1sxS83Q-",
        "outputId": "97462e6e-314c-4b3a-9eb4-adc9d9bdcb88"
      },
      "outputs": [
        {
          "name": "stdout",
          "output_type": "stream",
          "text": [
            "Number of training dataset:  350\n",
            "Number of test dataset:  150\n",
            "Total number of dataset:  500\n"
          ]
        }
      ],
      "source": [
        "from sklearn.model_selection import train_test_split\n",
        "X_train, X_test, y_train, y_test = train_test_split(X, y, test_size=0.30, random_state=1, stratify=y)\n",
        "print(\"Number of training dataset: \", len(X_train))\n",
        "print(\"Number of test dataset: \", len(X_test))\n",
        "print(\"Total number of dataset: \", len(X_train)+len(X_test))\n"
      ],
      "id": "GXwZ1sxS83Q-"
    },
    {
      "cell_type": "code",
      "execution_count": null,
      "metadata": {
        "id": "OEs1e4o783RA"
      },
      "outputs": [],
      "source": [
        "from sklearn.metrics import accuracy_score, confusion_matrix, classification_report\n",
        "from sklearn.naive_bayes import GaussianNB\n",
        "from sklearn.model_selection import cross_val_score"
      ],
      "id": "OEs1e4o783RA"
    },
    {
      "cell_type": "code",
      "execution_count": null,
      "metadata": {
        "id": "C5WVC3RI83RB",
        "outputId": "81de3d6d-7ae3-4559-9fed-3b31f1b10588"
      },
      "outputs": [
        {
          "name": "stdout",
          "output_type": "stream",
          "text": [
            "\n",
            "Classification report of Naive Bayes Results:\n",
            "\n",
            "              precision    recall  f1-score   support\n",
            "\n",
            "           0       1.00      0.90      0.95        30\n",
            "           1       1.00      1.00      1.00        30\n",
            "           2       1.00      1.00      1.00        30\n",
            "           3       1.00      1.00      1.00        30\n",
            "           4       0.91      1.00      0.95        30\n",
            "\n",
            "    accuracy                           0.98       150\n",
            "   macro avg       0.98      0.98      0.98       150\n",
            "weighted avg       0.98      0.98      0.98       150\n",
            "\n",
            "\n",
            "Confusion Matrix result of Naive Bayes is:\n",
            " [[27  0  0  0  3]\n",
            " [ 0 30  0  0  0]\n",
            " [ 0  0 30  0  0]\n",
            " [ 0  0  0 30  0]\n",
            " [ 0  0  0  0 30]]\n",
            "\n",
            "Accuracy of Naive Bayes is: 98.0\n"
          ]
        }
      ],
      "source": [
        "gnb = GaussianNB()\n",
        "gnb.fit(X_train,y_train)\n",
        "predictNB = gnb.predict(X_test)\n",
        "\n",
        "print(\"\")\n",
        "print('Classification report of Naive Bayes Results:')\n",
        "print(\"\")\n",
        "print(classification_report(y_test,predictNB))\n",
        "\n",
        "print(\"\")\n",
        "cm1=confusion_matrix(y_test,predictNB)\n",
        "print('Confusion Matrix result of Naive Bayes is:\\n',cm1)\n",
        "print(\"\")\n",
        "\n",
        "accuracy = accuracy_score(y_test, predictNB)\n",
        "print('Accuracy of Naive Bayes is:', accuracy*100)"
      ],
      "id": "C5WVC3RI83RB"
    },
    {
      "cell_type": "code",
      "execution_count": null,
      "metadata": {
        "id": "Ttuj36yc83RD"
      },
      "outputs": [],
      "source": [],
      "id": "Ttuj36yc83RD"
    },
    {
      "cell_type": "code",
      "execution_count": null,
      "metadata": {
        "id": "D-ssn72H83RE"
      },
      "outputs": [],
      "source": [],
      "id": "D-ssn72H83RE"
    },
    {
      "cell_type": "code",
      "execution_count": null,
      "metadata": {
        "id": "jqDAoswi83RE"
      },
      "outputs": [],
      "source": [],
      "id": "jqDAoswi83RE"
    }
  ],
  "metadata": {
    "kernelspec": {
      "display_name": "Python 3",
      "language": "python",
      "name": "python3"
    },
    "language_info": {
      "codemirror_mode": {
        "name": "ipython",
        "version": 3
      },
      "file_extension": ".py",
      "mimetype": "text/x-python",
      "name": "python",
      "nbconvert_exporter": "python",
      "pygments_lexer": "ipython3",
      "version": "3.8.5"
    },
    "colab": {
      "provenance": [],
      "include_colab_link": true
    }
  },
  "nbformat": 4,
  "nbformat_minor": 5
}
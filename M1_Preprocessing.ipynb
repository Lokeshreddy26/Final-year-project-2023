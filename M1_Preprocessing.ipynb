{
  "cells": [
    {
      "cell_type": "markdown",
      "metadata": {
        "id": "view-in-github",
        "colab_type": "text"
      },
      "source": [
        "<a href=\"https://colab.research.google.com/github/Lokeshreddy26/Final-year-project-2023/blob/main/M1_Preprocessing.ipynb\" target=\"_parent\"><img src=\"https://colab.research.google.com/assets/colab-badge.svg\" alt=\"Open In Colab\"/></a>"
      ]
    },
    {
      "cell_type": "markdown",
      "metadata": {
        "id": "9_1V5gLM9_tz"
      },
      "source": [
        "# Module 1: Data validation and pre-processing technique"
      ],
      "id": "9_1V5gLM9_tz"
    },
    {
      "cell_type": "code",
      "execution_count": null,
      "metadata": {
        "id": "AdQ_Bmnj9_t2"
      },
      "outputs": [],
      "source": [
        "import pandas as p\n",
        "import numpy as n"
      ],
      "id": "AdQ_Bmnj9_t2"
    },
    {
      "cell_type": "code",
      "execution_count": null,
      "metadata": {
        "id": "zUGZQU6b9_t3"
      },
      "outputs": [],
      "source": [
        "import warnings\n",
        "warnings.filterwarnings('ignore')"
      ],
      "id": "zUGZQU6b9_t3"
    },
    {
      "cell_type": "code",
      "execution_count": null,
      "metadata": {
        "id": "ibMbsp2F9_t4"
      },
      "outputs": [],
      "source": [
        "data = p.read_excel('WSND.xlsx')"
      ],
      "id": "ibMbsp2F9_t4"
    },
    {
      "cell_type": "code",
      "execution_count": null,
      "metadata": {
        "id": "2M1woRXX9_t4",
        "outputId": "15bab832-af5c-4760-e416-f1f0cc893056"
      },
      "outputs": [
        {
          "data": {
            "text/html": [
              "<div>\n",
              "<style scoped>\n",
              "    .dataframe tbody tr th:only-of-type {\n",
              "        vertical-align: middle;\n",
              "    }\n",
              "\n",
              "    .dataframe tbody tr th {\n",
              "        vertical-align: top;\n",
              "    }\n",
              "\n",
              "    .dataframe thead th {\n",
              "        text-align: right;\n",
              "    }\n",
              "</style>\n",
              "<table border=\"1\" class=\"dataframe\">\n",
              "  <thead>\n",
              "    <tr style=\"text-align: right;\">\n",
              "      <th></th>\n",
              "      <th>Id</th>\n",
              "      <th>Time</th>\n",
              "      <th>Is_CH</th>\n",
              "      <th>Who_CH</th>\n",
              "      <th>Dist_To_CH</th>\n",
              "      <th>ADV_S</th>\n",
              "      <th>ADV_R</th>\n",
              "      <th>JOIN_S</th>\n",
              "      <th>JOIN_R</th>\n",
              "      <th>SCH_S</th>\n",
              "      <th>SCH_R</th>\n",
              "      <th>Rank</th>\n",
              "      <th>DATA_S</th>\n",
              "      <th>DATA_R</th>\n",
              "      <th>Data_Sent_To_BS</th>\n",
              "      <th>Dist_CH_To_BS</th>\n",
              "      <th>Send_code</th>\n",
              "      <th>Consumed_Energy</th>\n",
              "      <th>Attack_Type</th>\n",
              "    </tr>\n",
              "  </thead>\n",
              "  <tbody>\n",
              "    <tr>\n",
              "      <th>0</th>\n",
              "      <td>107033</td>\n",
              "      <td>353</td>\n",
              "      <td>1</td>\n",
              "      <td>107033</td>\n",
              "      <td>0.0</td>\n",
              "      <td>1</td>\n",
              "      <td>3</td>\n",
              "      <td>0</td>\n",
              "      <td>71</td>\n",
              "      <td>1</td>\n",
              "      <td>0</td>\n",
              "      <td>0</td>\n",
              "      <td>0</td>\n",
              "      <td>1349</td>\n",
              "      <td>9</td>\n",
              "      <td>162.55050</td>\n",
              "      <td>0</td>\n",
              "      <td>2.03296</td>\n",
              "      <td>Grayhole</td>\n",
              "    </tr>\n",
              "    <tr>\n",
              "      <th>1</th>\n",
              "      <td>115021</td>\n",
              "      <td>753</td>\n",
              "      <td>1</td>\n",
              "      <td>115021</td>\n",
              "      <td>0.0</td>\n",
              "      <td>1</td>\n",
              "      <td>5</td>\n",
              "      <td>0</td>\n",
              "      <td>59</td>\n",
              "      <td>1</td>\n",
              "      <td>0</td>\n",
              "      <td>0</td>\n",
              "      <td>0</td>\n",
              "      <td>1298</td>\n",
              "      <td>0</td>\n",
              "      <td>0.00000</td>\n",
              "      <td>0</td>\n",
              "      <td>0.00721</td>\n",
              "      <td>Blackhole</td>\n",
              "    </tr>\n",
              "    <tr>\n",
              "      <th>2</th>\n",
              "      <td>117044</td>\n",
              "      <td>853</td>\n",
              "      <td>1</td>\n",
              "      <td>117044</td>\n",
              "      <td>0.0</td>\n",
              "      <td>1</td>\n",
              "      <td>4</td>\n",
              "      <td>0</td>\n",
              "      <td>54</td>\n",
              "      <td>54</td>\n",
              "      <td>0</td>\n",
              "      <td>0</td>\n",
              "      <td>0</td>\n",
              "      <td>0</td>\n",
              "      <td>0</td>\n",
              "      <td>0.00000</td>\n",
              "      <td>0</td>\n",
              "      <td>0.00723</td>\n",
              "      <td>Scheduling</td>\n",
              "    </tr>\n",
              "    <tr>\n",
              "      <th>3</th>\n",
              "      <td>103043</td>\n",
              "      <td>153</td>\n",
              "      <td>1</td>\n",
              "      <td>103043</td>\n",
              "      <td>0.0</td>\n",
              "      <td>1</td>\n",
              "      <td>4</td>\n",
              "      <td>0</td>\n",
              "      <td>47</td>\n",
              "      <td>1</td>\n",
              "      <td>0</td>\n",
              "      <td>0</td>\n",
              "      <td>0</td>\n",
              "      <td>1269</td>\n",
              "      <td>14</td>\n",
              "      <td>145.08942</td>\n",
              "      <td>0</td>\n",
              "      <td>1.88023</td>\n",
              "      <td>Grayhole</td>\n",
              "    </tr>\n",
              "    <tr>\n",
              "      <th>4</th>\n",
              "      <td>117044</td>\n",
              "      <td>853</td>\n",
              "      <td>1</td>\n",
              "      <td>117044</td>\n",
              "      <td>0.0</td>\n",
              "      <td>1</td>\n",
              "      <td>4</td>\n",
              "      <td>0</td>\n",
              "      <td>54</td>\n",
              "      <td>54</td>\n",
              "      <td>0</td>\n",
              "      <td>0</td>\n",
              "      <td>0</td>\n",
              "      <td>0</td>\n",
              "      <td>0</td>\n",
              "      <td>0.00000</td>\n",
              "      <td>0</td>\n",
              "      <td>0.00723</td>\n",
              "      <td>Scheduling</td>\n",
              "    </tr>\n",
              "  </tbody>\n",
              "</table>\n",
              "</div>"
            ],
            "text/plain": [
              "       Id  Time  Is_CH  Who_CH  Dist_To_CH  ADV_S  ADV_R  JOIN_S  JOIN_R  \\\n",
              "0  107033   353      1  107033         0.0      1      3       0      71   \n",
              "1  115021   753      1  115021         0.0      1      5       0      59   \n",
              "2  117044   853      1  117044         0.0      1      4       0      54   \n",
              "3  103043   153      1  103043         0.0      1      4       0      47   \n",
              "4  117044   853      1  117044         0.0      1      4       0      54   \n",
              "\n",
              "   SCH_S  SCH_R  Rank  DATA_S  DATA_R  Data_Sent_To_BS  Dist_CH_To_BS  \\\n",
              "0      1      0     0       0    1349                9      162.55050   \n",
              "1      1      0     0       0    1298                0        0.00000   \n",
              "2     54      0     0       0       0                0        0.00000   \n",
              "3      1      0     0       0    1269               14      145.08942   \n",
              "4     54      0     0       0       0                0        0.00000   \n",
              "\n",
              "   Send_code  Consumed_Energy Attack_Type  \n",
              "0          0          2.03296    Grayhole  \n",
              "1          0          0.00721   Blackhole  \n",
              "2          0          0.00723  Scheduling  \n",
              "3          0          1.88023    Grayhole  \n",
              "4          0          0.00723  Scheduling  "
            ]
          },
          "execution_count": 5,
          "metadata": {},
          "output_type": "execute_result"
        }
      ],
      "source": [
        "data.head()"
      ],
      "id": "2M1woRXX9_t4"
    },
    {
      "cell_type": "code",
      "execution_count": null,
      "metadata": {
        "id": "BbNJddlH9_t5",
        "outputId": "d501a125-48f8-4e81-a758-daa95a197558"
      },
      "outputs": [
        {
          "data": {
            "text/plain": [
              "(500, 19)"
            ]
          },
          "execution_count": 6,
          "metadata": {},
          "output_type": "execute_result"
        }
      ],
      "source": [
        "data.shape"
      ],
      "id": "BbNJddlH9_t5"
    },
    {
      "cell_type": "code",
      "execution_count": null,
      "metadata": {
        "id": "b93T9-GT9_t6",
        "outputId": "ee603d71-d241-42c7-f62a-fc381645a8da"
      },
      "outputs": [
        {
          "data": {
            "text/plain": [
              "Id                 0\n",
              "Time               0\n",
              "Is_CH              0\n",
              "Who_CH             0\n",
              "Dist_To_CH         0\n",
              "ADV_S              0\n",
              "ADV_R              0\n",
              "JOIN_S             0\n",
              "JOIN_R             0\n",
              "SCH_S              0\n",
              "SCH_R              0\n",
              "Rank               0\n",
              "DATA_S             0\n",
              "DATA_R             0\n",
              "Data_Sent_To_BS    0\n",
              "Dist_CH_To_BS      0\n",
              "Send_code          0\n",
              "Consumed_Energy    0\n",
              "Attack_Type        0\n",
              "dtype: int64"
            ]
          },
          "execution_count": 7,
          "metadata": {},
          "output_type": "execute_result"
        }
      ],
      "source": [
        "data.isnull().sum()"
      ],
      "id": "b93T9-GT9_t6"
    },
    {
      "cell_type": "markdown",
      "metadata": {
        "id": "UmrRBeY09_t6"
      },
      "source": [
        "# Drop the Given Dataset"
      ],
      "id": "UmrRBeY09_t6"
    },
    {
      "cell_type": "code",
      "execution_count": null,
      "metadata": {
        "id": "pNaYZ-Xn9_t6"
      },
      "outputs": [],
      "source": [
        "df = data.dropna()"
      ],
      "id": "pNaYZ-Xn9_t6"
    },
    {
      "cell_type": "code",
      "execution_count": null,
      "metadata": {
        "id": "e5eQNrKR9_t7",
        "outputId": "7839b4d9-2ecc-4bc1-bc64-b92fa626f38b"
      },
      "outputs": [
        {
          "data": {
            "text/plain": [
              "(500, 19)"
            ]
          },
          "execution_count": 9,
          "metadata": {},
          "output_type": "execute_result"
        }
      ],
      "source": [
        "df.shape"
      ],
      "id": "e5eQNrKR9_t7"
    },
    {
      "cell_type": "code",
      "execution_count": null,
      "metadata": {
        "id": "oTb8J4VR9_t7",
        "outputId": "3dc84d06-bc97-4a0d-acc6-b1978228cfa6"
      },
      "outputs": [
        {
          "data": {
            "text/plain": [
              "Id                 0\n",
              "Time               0\n",
              "Is_CH              0\n",
              "Who_CH             0\n",
              "Dist_To_CH         0\n",
              "ADV_S              0\n",
              "ADV_R              0\n",
              "JOIN_S             0\n",
              "JOIN_R             0\n",
              "SCH_S              0\n",
              "SCH_R              0\n",
              "Rank               0\n",
              "DATA_S             0\n",
              "DATA_R             0\n",
              "Data_Sent_To_BS    0\n",
              "Dist_CH_To_BS      0\n",
              "Send_code          0\n",
              "Consumed_Energy    0\n",
              "Attack_Type        0\n",
              "dtype: int64"
            ]
          },
          "execution_count": 10,
          "metadata": {},
          "output_type": "execute_result"
        }
      ],
      "source": [
        "df.isnull().sum()"
      ],
      "id": "oTb8J4VR9_t7"
    },
    {
      "cell_type": "code",
      "execution_count": null,
      "metadata": {
        "id": "ry51GA5C9_t8",
        "outputId": "99fa75be-5aaa-47a8-fdd9-095653d029ca"
      },
      "outputs": [
        {
          "data": {
            "text/html": [
              "<div>\n",
              "<style scoped>\n",
              "    .dataframe tbody tr th:only-of-type {\n",
              "        vertical-align: middle;\n",
              "    }\n",
              "\n",
              "    .dataframe tbody tr th {\n",
              "        vertical-align: top;\n",
              "    }\n",
              "\n",
              "    .dataframe thead th {\n",
              "        text-align: right;\n",
              "    }\n",
              "</style>\n",
              "<table border=\"1\" class=\"dataframe\">\n",
              "  <thead>\n",
              "    <tr style=\"text-align: right;\">\n",
              "      <th></th>\n",
              "      <th>Id</th>\n",
              "      <th>Time</th>\n",
              "      <th>Is_CH</th>\n",
              "      <th>Who_CH</th>\n",
              "      <th>Dist_To_CH</th>\n",
              "      <th>ADV_S</th>\n",
              "      <th>ADV_R</th>\n",
              "      <th>JOIN_S</th>\n",
              "      <th>JOIN_R</th>\n",
              "      <th>SCH_S</th>\n",
              "      <th>SCH_R</th>\n",
              "      <th>Rank</th>\n",
              "      <th>DATA_S</th>\n",
              "      <th>DATA_R</th>\n",
              "      <th>Data_Sent_To_BS</th>\n",
              "      <th>Dist_CH_To_BS</th>\n",
              "      <th>Send_code</th>\n",
              "      <th>Consumed_Energy</th>\n",
              "    </tr>\n",
              "  </thead>\n",
              "  <tbody>\n",
              "    <tr>\n",
              "      <th>count</th>\n",
              "      <td>500.000000</td>\n",
              "      <td>500.000000</td>\n",
              "      <td>500.000000</td>\n",
              "      <td>500.000000</td>\n",
              "      <td>500.000000</td>\n",
              "      <td>500.000000</td>\n",
              "      <td>500.000000</td>\n",
              "      <td>500.000000</td>\n",
              "      <td>500.000000</td>\n",
              "      <td>500.000000</td>\n",
              "      <td>500.000000</td>\n",
              "      <td>500.000000</td>\n",
              "      <td>500.000000</td>\n",
              "      <td>500.000000</td>\n",
              "      <td>500.000000</td>\n",
              "      <td>500.000000</td>\n",
              "      <td>500.000000</td>\n",
              "      <td>500.000000</td>\n",
              "    </tr>\n",
              "    <tr>\n",
              "      <th>mean</th>\n",
              "      <td>172813.128000</td>\n",
              "      <td>693.100000</td>\n",
              "      <td>0.800000</td>\n",
              "      <td>172811.928000</td>\n",
              "      <td>5.354777</td>\n",
              "      <td>1.800000</td>\n",
              "      <td>8.140000</td>\n",
              "      <td>0.200000</td>\n",
              "      <td>18.596000</td>\n",
              "      <td>4.840000</td>\n",
              "      <td>0.200000</td>\n",
              "      <td>4.442000</td>\n",
              "      <td>5.780000</td>\n",
              "      <td>477.358000</td>\n",
              "      <td>5.760000</td>\n",
              "      <td>48.664143</td>\n",
              "      <td>0.338000</td>\n",
              "      <td>0.425383</td>\n",
              "    </tr>\n",
              "    <tr>\n",
              "      <th>std</th>\n",
              "      <td>116323.806057</td>\n",
              "      <td>386.906168</td>\n",
              "      <td>0.400401</td>\n",
              "      <td>116324.445235</td>\n",
              "      <td>11.825196</td>\n",
              "      <td>2.137554</td>\n",
              "      <td>8.517599</td>\n",
              "      <td>0.400401</td>\n",
              "      <td>21.122526</td>\n",
              "      <td>11.117986</td>\n",
              "      <td>0.400401</td>\n",
              "      <td>10.363853</td>\n",
              "      <td>11.755338</td>\n",
              "      <td>588.837575</td>\n",
              "      <td>7.959466</td>\n",
              "      <td>61.204942</td>\n",
              "      <td>0.707642</td>\n",
              "      <td>0.718673</td>\n",
              "    </tr>\n",
              "    <tr>\n",
              "      <th>min</th>\n",
              "      <td>101021.000000</td>\n",
              "      <td>53.000000</td>\n",
              "      <td>0.000000</td>\n",
              "      <td>101021.000000</td>\n",
              "      <td>0.000000</td>\n",
              "      <td>0.000000</td>\n",
              "      <td>0.000000</td>\n",
              "      <td>0.000000</td>\n",
              "      <td>0.000000</td>\n",
              "      <td>0.000000</td>\n",
              "      <td>0.000000</td>\n",
              "      <td>0.000000</td>\n",
              "      <td>0.000000</td>\n",
              "      <td>0.000000</td>\n",
              "      <td>0.000000</td>\n",
              "      <td>0.000000</td>\n",
              "      <td>0.000000</td>\n",
              "      <td>0.002250</td>\n",
              "    </tr>\n",
              "    <tr>\n",
              "      <th>25%</th>\n",
              "      <td>110024.000000</td>\n",
              "      <td>503.000000</td>\n",
              "      <td>1.000000</td>\n",
              "      <td>110024.000000</td>\n",
              "      <td>0.000000</td>\n",
              "      <td>1.000000</td>\n",
              "      <td>2.000000</td>\n",
              "      <td>0.000000</td>\n",
              "      <td>0.000000</td>\n",
              "      <td>0.000000</td>\n",
              "      <td>0.000000</td>\n",
              "      <td>0.000000</td>\n",
              "      <td>0.000000</td>\n",
              "      <td>0.000000</td>\n",
              "      <td>0.000000</td>\n",
              "      <td>0.000000</td>\n",
              "      <td>0.000000</td>\n",
              "      <td>0.007230</td>\n",
              "    </tr>\n",
              "    <tr>\n",
              "      <th>50%</th>\n",
              "      <td>111060.000000</td>\n",
              "      <td>553.000000</td>\n",
              "      <td>1.000000</td>\n",
              "      <td>111093.000000</td>\n",
              "      <td>0.000000</td>\n",
              "      <td>1.000000</td>\n",
              "      <td>4.000000</td>\n",
              "      <td>0.000000</td>\n",
              "      <td>14.000000</td>\n",
              "      <td>1.000000</td>\n",
              "      <td>0.000000</td>\n",
              "      <td>0.000000</td>\n",
              "      <td>0.000000</td>\n",
              "      <td>0.000000</td>\n",
              "      <td>0.000000</td>\n",
              "      <td>0.000000</td>\n",
              "      <td>0.000000</td>\n",
              "      <td>0.058200</td>\n",
              "    </tr>\n",
              "    <tr>\n",
              "      <th>75%</th>\n",
              "      <td>118058.000000</td>\n",
              "      <td>903.000000</td>\n",
              "      <td>1.000000</td>\n",
              "      <td>118058.000000</td>\n",
              "      <td>0.000000</td>\n",
              "      <td>1.000000</td>\n",
              "      <td>9.000000</td>\n",
              "      <td>0.000000</td>\n",
              "      <td>31.000000</td>\n",
              "      <td>1.000000</td>\n",
              "      <td>0.000000</td>\n",
              "      <td>0.000000</td>\n",
              "      <td>0.000000</td>\n",
              "      <td>1166.000000</td>\n",
              "      <td>13.000000</td>\n",
              "      <td>115.309420</td>\n",
              "      <td>0.000000</td>\n",
              "      <td>0.242550</td>\n",
              "    </tr>\n",
              "    <tr>\n",
              "      <th>max</th>\n",
              "      <td>402069.000000</td>\n",
              "      <td>1253.000000</td>\n",
              "      <td>1.000000</td>\n",
              "      <td>402069.000000</td>\n",
              "      <td>43.036870</td>\n",
              "      <td>6.000000</td>\n",
              "      <td>28.000000</td>\n",
              "      <td>1.000000</td>\n",
              "      <td>75.000000</td>\n",
              "      <td>54.000000</td>\n",
              "      <td>1.000000</td>\n",
              "      <td>37.000000</td>\n",
              "      <td>32.000000</td>\n",
              "      <td>1350.000000</td>\n",
              "      <td>29.000000</td>\n",
              "      <td>162.550500</td>\n",
              "      <td>2.000000</td>\n",
              "      <td>2.069590</td>\n",
              "    </tr>\n",
              "  </tbody>\n",
              "</table>\n",
              "</div>"
            ],
            "text/plain": [
              "                  Id         Time       Is_CH         Who_CH  Dist_To_CH  \\\n",
              "count     500.000000   500.000000  500.000000     500.000000  500.000000   \n",
              "mean   172813.128000   693.100000    0.800000  172811.928000    5.354777   \n",
              "std    116323.806057   386.906168    0.400401  116324.445235   11.825196   \n",
              "min    101021.000000    53.000000    0.000000  101021.000000    0.000000   \n",
              "25%    110024.000000   503.000000    1.000000  110024.000000    0.000000   \n",
              "50%    111060.000000   553.000000    1.000000  111093.000000    0.000000   \n",
              "75%    118058.000000   903.000000    1.000000  118058.000000    0.000000   \n",
              "max    402069.000000  1253.000000    1.000000  402069.000000   43.036870   \n",
              "\n",
              "            ADV_S       ADV_R      JOIN_S      JOIN_R       SCH_S       SCH_R  \\\n",
              "count  500.000000  500.000000  500.000000  500.000000  500.000000  500.000000   \n",
              "mean     1.800000    8.140000    0.200000   18.596000    4.840000    0.200000   \n",
              "std      2.137554    8.517599    0.400401   21.122526   11.117986    0.400401   \n",
              "min      0.000000    0.000000    0.000000    0.000000    0.000000    0.000000   \n",
              "25%      1.000000    2.000000    0.000000    0.000000    0.000000    0.000000   \n",
              "50%      1.000000    4.000000    0.000000   14.000000    1.000000    0.000000   \n",
              "75%      1.000000    9.000000    0.000000   31.000000    1.000000    0.000000   \n",
              "max      6.000000   28.000000    1.000000   75.000000   54.000000    1.000000   \n",
              "\n",
              "             Rank      DATA_S       DATA_R  Data_Sent_To_BS  Dist_CH_To_BS  \\\n",
              "count  500.000000  500.000000   500.000000       500.000000     500.000000   \n",
              "mean     4.442000    5.780000   477.358000         5.760000      48.664143   \n",
              "std     10.363853   11.755338   588.837575         7.959466      61.204942   \n",
              "min      0.000000    0.000000     0.000000         0.000000       0.000000   \n",
              "25%      0.000000    0.000000     0.000000         0.000000       0.000000   \n",
              "50%      0.000000    0.000000     0.000000         0.000000       0.000000   \n",
              "75%      0.000000    0.000000  1166.000000        13.000000     115.309420   \n",
              "max     37.000000   32.000000  1350.000000        29.000000     162.550500   \n",
              "\n",
              "        Send_code  Consumed_Energy  \n",
              "count  500.000000       500.000000  \n",
              "mean     0.338000         0.425383  \n",
              "std      0.707642         0.718673  \n",
              "min      0.000000         0.002250  \n",
              "25%      0.000000         0.007230  \n",
              "50%      0.000000         0.058200  \n",
              "75%      0.000000         0.242550  \n",
              "max      2.000000         2.069590  "
            ]
          },
          "execution_count": 11,
          "metadata": {},
          "output_type": "execute_result"
        }
      ],
      "source": [
        "df.describe()"
      ],
      "id": "ry51GA5C9_t8"
    },
    {
      "cell_type": "code",
      "execution_count": null,
      "metadata": {
        "id": "WftHt8qF9_t8",
        "outputId": "773f31c9-f5c9-41ca-e101-d06769e41a09"
      },
      "outputs": [
        {
          "data": {
            "text/plain": [
              "Index(['Id', 'Time', 'Is_CH', 'Who_CH', 'Dist_To_CH', 'ADV_S', 'ADV_R',\n",
              "       'JOIN_S', 'JOIN_R', 'SCH_S', 'SCH_R', 'Rank', 'DATA_S', 'DATA_R',\n",
              "       'Data_Sent_To_BS', 'Dist_CH_To_BS', 'Send_code', 'Consumed_Energy',\n",
              "       'Attack_Type'],\n",
              "      dtype='object')"
            ]
          },
          "execution_count": 12,
          "metadata": {},
          "output_type": "execute_result"
        }
      ],
      "source": [
        "df.columns"
      ],
      "id": "WftHt8qF9_t8"
    },
    {
      "cell_type": "code",
      "execution_count": null,
      "metadata": {
        "id": "B_shfbBj9_t8"
      },
      "outputs": [],
      "source": [
        "del df['Id']"
      ],
      "id": "B_shfbBj9_t8"
    },
    {
      "cell_type": "code",
      "execution_count": null,
      "metadata": {
        "id": "wg4aQQpF9_t9",
        "outputId": "ac68518f-bbdc-4fee-bab4-b4609e3300ea"
      },
      "outputs": [
        {
          "data": {
            "text/plain": [
              "Index(['Time', 'Is_CH', 'Who_CH', 'Dist_To_CH', 'ADV_S', 'ADV_R', 'JOIN_S',\n",
              "       'JOIN_R', 'SCH_S', 'SCH_R', 'Rank', 'DATA_S', 'DATA_R',\n",
              "       'Data_Sent_To_BS', 'Dist_CH_To_BS', 'Send_code', 'Consumed_Energy',\n",
              "       'Attack_Type'],\n",
              "      dtype='object')"
            ]
          },
          "execution_count": 14,
          "metadata": {},
          "output_type": "execute_result"
        }
      ],
      "source": [
        "df.columns"
      ],
      "id": "wg4aQQpF9_t9"
    },
    {
      "cell_type": "code",
      "execution_count": null,
      "metadata": {
        "id": "qwR-ugrN9_t9",
        "outputId": "fed818c1-3917-41a8-8b10-d9608ffe90c8"
      },
      "outputs": [
        {
          "data": {
            "text/plain": [
              "array([ 0, 10,  3, 33, 31, 24, 20, 37], dtype=int64)"
            ]
          },
          "execution_count": 16,
          "metadata": {},
          "output_type": "execute_result"
        }
      ],
      "source": [
        "df.Rank.unique()"
      ],
      "id": "qwR-ugrN9_t9"
    },
    {
      "cell_type": "code",
      "execution_count": null,
      "metadata": {
        "id": "6asAbvPb9_t9",
        "outputId": "f42a8512-55b0-412d-adb8-0caae724b526"
      },
      "outputs": [
        {
          "data": {
            "text/plain": [
              "array([107033, 115021, 117044, 103043, 402054, 201061, 118058, 103003,\n",
              "       111093, 402063, 110024, 101041, 117039, 117095, 103029, 118031,\n",
              "       111028, 402069, 118046, 110044, 117061, 201021, 102040, 105005,\n",
              "       106079, 101021], dtype=int64)"
            ]
          },
          "execution_count": 17,
          "metadata": {},
          "output_type": "execute_result"
        }
      ],
      "source": [
        "df.Who_CH.unique()"
      ],
      "id": "6asAbvPb9_t9"
    },
    {
      "cell_type": "code",
      "execution_count": null,
      "metadata": {
        "id": "nP9xc_qW9_t9",
        "outputId": "1e1e9722-a5c4-46ef-fd35-df1af5a1c980"
      },
      "outputs": [
        {
          "data": {
            "text/plain": [
              "array([ 9,  0, 14, 13, 29, 15, 23,  7], dtype=int64)"
            ]
          },
          "execution_count": 23,
          "metadata": {},
          "output_type": "execute_result"
        }
      ],
      "source": [
        "df.Data_Sent_To_BS.unique()"
      ],
      "id": "nP9xc_qW9_t9"
    },
    {
      "cell_type": "code",
      "execution_count": null,
      "metadata": {
        "id": "NhrIuwkp9_t-",
        "outputId": "2e1cc067-1e2b-44f4-e348-f2bc299fccf6"
      },
      "outputs": [
        {
          "data": {
            "text/plain": [
              "array([2.03296, 0.00721, 0.00723, 1.88023, 0.24255, 0.00719, 0.00724,\n",
              "       2.06959, 0.04156, 0.04172, 0.23082, 2.0577 , 0.00225, 0.00722,\n",
              "       0.00736, 0.057  , 0.0582 , 0.21998, 1.92349, 0.00728, 0.0072 ,\n",
              "       0.05904, 0.05894, 0.92063, 1.64035, 0.1789 ])"
            ]
          },
          "execution_count": 24,
          "metadata": {},
          "output_type": "execute_result"
        }
      ],
      "source": [
        "df.Consumed_Energy.unique()"
      ],
      "id": "NhrIuwkp9_t-"
    },
    {
      "cell_type": "code",
      "execution_count": null,
      "metadata": {
        "id": "wLZjg-479_t-",
        "outputId": "39154fed-94f7-4ac7-afaa-34e5258be211"
      },
      "outputs": [
        {
          "data": {
            "text/plain": [
              "array(['Grayhole', 'Blackhole', 'Scheduling', 'Flooding', 'Normal'],\n",
              "      dtype=object)"
            ]
          },
          "execution_count": 25,
          "metadata": {},
          "output_type": "execute_result"
        }
      ],
      "source": [
        "df.Attack_Type.unique()"
      ],
      "id": "wLZjg-479_t-"
    },
    {
      "cell_type": "code",
      "execution_count": null,
      "metadata": {
        "id": "UeQSeJcV9_t-",
        "outputId": "0c6f1aed-d332-4c43-e6c1-102a97e56ad2"
      },
      "outputs": [
        {
          "data": {
            "text/html": [
              "<div>\n",
              "<style scoped>\n",
              "    .dataframe tbody tr th:only-of-type {\n",
              "        vertical-align: middle;\n",
              "    }\n",
              "\n",
              "    .dataframe tbody tr th {\n",
              "        vertical-align: top;\n",
              "    }\n",
              "\n",
              "    .dataframe thead th {\n",
              "        text-align: right;\n",
              "    }\n",
              "</style>\n",
              "<table border=\"1\" class=\"dataframe\">\n",
              "  <thead>\n",
              "    <tr style=\"text-align: right;\">\n",
              "      <th></th>\n",
              "      <th>counts</th>\n",
              "      <th>freqs</th>\n",
              "    </tr>\n",
              "    <tr>\n",
              "      <th>categories</th>\n",
              "      <th></th>\n",
              "      <th></th>\n",
              "    </tr>\n",
              "  </thead>\n",
              "  <tbody>\n",
              "    <tr>\n",
              "      <th>0</th>\n",
              "      <td>100</td>\n",
              "      <td>0.2</td>\n",
              "    </tr>\n",
              "    <tr>\n",
              "      <th>1</th>\n",
              "      <td>400</td>\n",
              "      <td>0.8</td>\n",
              "    </tr>\n",
              "  </tbody>\n",
              "</table>\n",
              "</div>"
            ],
            "text/plain": [
              "            counts  freqs\n",
              "categories               \n",
              "0              100    0.2\n",
              "1              400    0.8"
            ]
          },
          "execution_count": 29,
          "metadata": {},
          "output_type": "execute_result"
        }
      ],
      "source": [
        "p.Categorical(df['Is_CH']).describe()"
      ],
      "id": "UeQSeJcV9_t-"
    },
    {
      "cell_type": "code",
      "execution_count": null,
      "metadata": {
        "id": "wzROv6Te9_t-",
        "outputId": "90be2bbb-1e08-4ffb-e065-a49bdfb041d8"
      },
      "outputs": [
        {
          "data": {
            "text/html": [
              "<div>\n",
              "<style scoped>\n",
              "    .dataframe tbody tr th:only-of-type {\n",
              "        vertical-align: middle;\n",
              "    }\n",
              "\n",
              "    .dataframe tbody tr th {\n",
              "        vertical-align: top;\n",
              "    }\n",
              "\n",
              "    .dataframe thead th {\n",
              "        text-align: right;\n",
              "    }\n",
              "</style>\n",
              "<table border=\"1\" class=\"dataframe\">\n",
              "  <thead>\n",
              "    <tr style=\"text-align: right;\">\n",
              "      <th></th>\n",
              "      <th>counts</th>\n",
              "      <th>freqs</th>\n",
              "    </tr>\n",
              "    <tr>\n",
              "      <th>categories</th>\n",
              "      <th></th>\n",
              "      <th></th>\n",
              "    </tr>\n",
              "  </thead>\n",
              "  <tbody>\n",
              "    <tr>\n",
              "      <th>0</th>\n",
              "      <td>400</td>\n",
              "      <td>0.800</td>\n",
              "    </tr>\n",
              "    <tr>\n",
              "      <th>22</th>\n",
              "      <td>31</td>\n",
              "      <td>0.062</td>\n",
              "    </tr>\n",
              "    <tr>\n",
              "      <th>32</th>\n",
              "      <td>69</td>\n",
              "      <td>0.138</td>\n",
              "    </tr>\n",
              "  </tbody>\n",
              "</table>\n",
              "</div>"
            ],
            "text/plain": [
              "            counts  freqs\n",
              "categories               \n",
              "0              400  0.800\n",
              "22              31  0.062\n",
              "32              69  0.138"
            ]
          },
          "execution_count": 33,
          "metadata": {},
          "output_type": "execute_result"
        }
      ],
      "source": [
        "p.Categorical(df['DATA_S']).describe()"
      ],
      "id": "wzROv6Te9_t-"
    },
    {
      "cell_type": "code",
      "execution_count": null,
      "metadata": {
        "id": "CiI9hr1a9_t_",
        "outputId": "2ab6cd7a-565c-47f8-dab8-565e7331130c"
      },
      "outputs": [
        {
          "data": {
            "text/html": [
              "<div>\n",
              "<style scoped>\n",
              "    .dataframe tbody tr th:only-of-type {\n",
              "        vertical-align: middle;\n",
              "    }\n",
              "\n",
              "    .dataframe tbody tr th {\n",
              "        vertical-align: top;\n",
              "    }\n",
              "\n",
              "    .dataframe thead th {\n",
              "        text-align: right;\n",
              "    }\n",
              "</style>\n",
              "<table border=\"1\" class=\"dataframe\">\n",
              "  <thead>\n",
              "    <tr style=\"text-align: right;\">\n",
              "      <th></th>\n",
              "      <th>counts</th>\n",
              "      <th>freqs</th>\n",
              "    </tr>\n",
              "    <tr>\n",
              "      <th>categories</th>\n",
              "      <th></th>\n",
              "      <th></th>\n",
              "    </tr>\n",
              "  </thead>\n",
              "  <tbody>\n",
              "    <tr>\n",
              "      <th>Blackhole</th>\n",
              "      <td>100</td>\n",
              "      <td>0.2</td>\n",
              "    </tr>\n",
              "    <tr>\n",
              "      <th>Flooding</th>\n",
              "      <td>100</td>\n",
              "      <td>0.2</td>\n",
              "    </tr>\n",
              "    <tr>\n",
              "      <th>Grayhole</th>\n",
              "      <td>100</td>\n",
              "      <td>0.2</td>\n",
              "    </tr>\n",
              "    <tr>\n",
              "      <th>Normal</th>\n",
              "      <td>100</td>\n",
              "      <td>0.2</td>\n",
              "    </tr>\n",
              "    <tr>\n",
              "      <th>Scheduling</th>\n",
              "      <td>100</td>\n",
              "      <td>0.2</td>\n",
              "    </tr>\n",
              "  </tbody>\n",
              "</table>\n",
              "</div>"
            ],
            "text/plain": [
              "            counts  freqs\n",
              "categories               \n",
              "Blackhole      100    0.2\n",
              "Flooding       100    0.2\n",
              "Grayhole       100    0.2\n",
              "Normal         100    0.2\n",
              "Scheduling     100    0.2"
            ]
          },
          "execution_count": 34,
          "metadata": {},
          "output_type": "execute_result"
        }
      ],
      "source": [
        "p.Categorical(df['Attack_Type']).describe()"
      ],
      "id": "CiI9hr1a9_t_"
    },
    {
      "cell_type": "code",
      "execution_count": null,
      "metadata": {
        "id": "Ez_AvLBG9_t_",
        "outputId": "59b50276-b34a-475e-ac05-ca3ca30aca7a"
      },
      "outputs": [
        {
          "name": "stdout",
          "output_type": "stream",
          "text": [
            "<class 'pandas.core.frame.DataFrame'>\n",
            "Int64Index: 500 entries, 0 to 499\n",
            "Data columns (total 18 columns):\n",
            " #   Column           Non-Null Count  Dtype  \n",
            "---  ------           --------------  -----  \n",
            " 0   Time             500 non-null    int64  \n",
            " 1   Is_CH            500 non-null    int64  \n",
            " 2   Who_CH           500 non-null    int64  \n",
            " 3   Dist_To_CH       500 non-null    float64\n",
            " 4   ADV_S            500 non-null    int64  \n",
            " 5   ADV_R            500 non-null    int64  \n",
            " 6   JOIN_S           500 non-null    int64  \n",
            " 7   JOIN_R           500 non-null    int64  \n",
            " 8   SCH_S            500 non-null    int64  \n",
            " 9   SCH_R            500 non-null    int64  \n",
            " 10  Rank             500 non-null    int64  \n",
            " 11  DATA_S           500 non-null    int64  \n",
            " 12  DATA_R           500 non-null    int64  \n",
            " 13  Data_Sent_To_BS  500 non-null    int64  \n",
            " 14  Dist_CH_To_BS    500 non-null    float64\n",
            " 15  Send_code        500 non-null    int64  \n",
            " 16  Consumed_Energy  500 non-null    float64\n",
            " 17  Attack_Type      500 non-null    object \n",
            "dtypes: float64(3), int64(14), object(1)\n",
            "memory usage: 74.2+ KB\n"
          ]
        }
      ],
      "source": [
        "df.info()"
      ],
      "id": "Ez_AvLBG9_t_"
    },
    {
      "cell_type": "code",
      "execution_count": null,
      "metadata": {
        "id": "OlUUze_j9_t_",
        "outputId": "ea7f82ba-6d6e-42a3-dd93-efea8d95e094"
      },
      "outputs": [
        {
          "data": {
            "text/plain": [
              "Index(['Time', 'Is_CH', 'Who_CH', 'Dist_To_CH', 'ADV_S', 'ADV_R', 'JOIN_S',\n",
              "       'JOIN_R', 'SCH_S', 'SCH_R', 'Rank', 'DATA_S', 'DATA_R',\n",
              "       'Data_Sent_To_BS', 'Dist_CH_To_BS', 'Send_code', 'Consumed_Energy',\n",
              "       'Attack_Type'],\n",
              "      dtype='object')"
            ]
          },
          "execution_count": 38,
          "metadata": {},
          "output_type": "execute_result"
        }
      ],
      "source": [
        "df.columns"
      ],
      "id": "OlUUze_j9_t_"
    },
    {
      "cell_type": "code",
      "execution_count": null,
      "metadata": {
        "id": "w-i24IVU9_t_",
        "outputId": "fe1a9d99-943a-4c8c-e62c-4c063187564b"
      },
      "outputs": [
        {
          "name": "stdout",
          "output_type": "stream",
          "text": [
            "Minimum value of bmi Level is: 0.0\n",
            "Maximum value of bmi Level is: 162.5505\n"
          ]
        }
      ],
      "source": [
        "print(\"Minimum value of bmi Level is:\", df.Dist_CH_To_BS.min())\n",
        "print(\"Maximum value of bmi Level is:\", df.Dist_CH_To_BS.max())"
      ],
      "id": "w-i24IVU9_t_"
    },
    {
      "cell_type": "code",
      "execution_count": null,
      "metadata": {
        "id": "duwKKEB49_t_",
        "outputId": "3de0aa58-93d5-4061-9a59-d33ce0988ae3"
      },
      "outputs": [
        {
          "name": "stdout",
          "output_type": "stream",
          "text": [
            "Minimum value of Consumed_Energy is: 0.00225\n",
            "Maximum value of Consumed_Energy is: 2.06959\n"
          ]
        }
      ],
      "source": [
        "print(\"Minimum value of Consumed_Energy is:\", df.Consumed_Energy.min())\n",
        "print(\"Maximum value of Consumed_Energy is:\", df.Consumed_Energy.max())"
      ],
      "id": "duwKKEB49_t_"
    },
    {
      "cell_type": "code",
      "execution_count": null,
      "metadata": {
        "id": "MBQeqLsL9_uA"
      },
      "outputs": [],
      "source": [
        "from sklearn.preprocessing import LabelEncoder\n",
        "var_mod = ['Attack_Type']\n",
        "le = LabelEncoder()\n",
        "for i in var_mod:\n",
        "    df[i] = le.fit_transform(df[i]).astype(int)"
      ],
      "id": "MBQeqLsL9_uA"
    },
    {
      "cell_type": "code",
      "execution_count": null,
      "metadata": {
        "id": "7_xhdPDr9_uA",
        "outputId": "37466595-465a-4362-ac55-f8fd37c2761a"
      },
      "outputs": [
        {
          "data": {
            "text/html": [
              "<div>\n",
              "<style scoped>\n",
              "    .dataframe tbody tr th:only-of-type {\n",
              "        vertical-align: middle;\n",
              "    }\n",
              "\n",
              "    .dataframe tbody tr th {\n",
              "        vertical-align: top;\n",
              "    }\n",
              "\n",
              "    .dataframe thead th {\n",
              "        text-align: right;\n",
              "    }\n",
              "</style>\n",
              "<table border=\"1\" class=\"dataframe\">\n",
              "  <thead>\n",
              "    <tr style=\"text-align: right;\">\n",
              "      <th></th>\n",
              "      <th>Time</th>\n",
              "      <th>Is_CH</th>\n",
              "      <th>Who_CH</th>\n",
              "      <th>Dist_To_CH</th>\n",
              "      <th>ADV_S</th>\n",
              "      <th>ADV_R</th>\n",
              "      <th>JOIN_S</th>\n",
              "      <th>JOIN_R</th>\n",
              "      <th>SCH_S</th>\n",
              "      <th>SCH_R</th>\n",
              "      <th>Rank</th>\n",
              "      <th>DATA_S</th>\n",
              "      <th>DATA_R</th>\n",
              "      <th>Data_Sent_To_BS</th>\n",
              "      <th>Dist_CH_To_BS</th>\n",
              "      <th>Send_code</th>\n",
              "      <th>Consumed_Energy</th>\n",
              "      <th>Attack_Type</th>\n",
              "    </tr>\n",
              "  </thead>\n",
              "  <tbody>\n",
              "    <tr>\n",
              "      <th>0</th>\n",
              "      <td>353</td>\n",
              "      <td>1</td>\n",
              "      <td>107033</td>\n",
              "      <td>0.00000</td>\n",
              "      <td>1</td>\n",
              "      <td>3</td>\n",
              "      <td>0</td>\n",
              "      <td>71</td>\n",
              "      <td>1</td>\n",
              "      <td>0</td>\n",
              "      <td>0</td>\n",
              "      <td>0</td>\n",
              "      <td>1349</td>\n",
              "      <td>9</td>\n",
              "      <td>162.55050</td>\n",
              "      <td>0</td>\n",
              "      <td>2.03296</td>\n",
              "      <td>2</td>\n",
              "    </tr>\n",
              "    <tr>\n",
              "      <th>1</th>\n",
              "      <td>753</td>\n",
              "      <td>1</td>\n",
              "      <td>115021</td>\n",
              "      <td>0.00000</td>\n",
              "      <td>1</td>\n",
              "      <td>5</td>\n",
              "      <td>0</td>\n",
              "      <td>59</td>\n",
              "      <td>1</td>\n",
              "      <td>0</td>\n",
              "      <td>0</td>\n",
              "      <td>0</td>\n",
              "      <td>1298</td>\n",
              "      <td>0</td>\n",
              "      <td>0.00000</td>\n",
              "      <td>0</td>\n",
              "      <td>0.00721</td>\n",
              "      <td>0</td>\n",
              "    </tr>\n",
              "    <tr>\n",
              "      <th>2</th>\n",
              "      <td>853</td>\n",
              "      <td>1</td>\n",
              "      <td>117044</td>\n",
              "      <td>0.00000</td>\n",
              "      <td>1</td>\n",
              "      <td>4</td>\n",
              "      <td>0</td>\n",
              "      <td>54</td>\n",
              "      <td>54</td>\n",
              "      <td>0</td>\n",
              "      <td>0</td>\n",
              "      <td>0</td>\n",
              "      <td>0</td>\n",
              "      <td>0</td>\n",
              "      <td>0.00000</td>\n",
              "      <td>0</td>\n",
              "      <td>0.00723</td>\n",
              "      <td>4</td>\n",
              "    </tr>\n",
              "    <tr>\n",
              "      <th>3</th>\n",
              "      <td>153</td>\n",
              "      <td>1</td>\n",
              "      <td>103043</td>\n",
              "      <td>0.00000</td>\n",
              "      <td>1</td>\n",
              "      <td>4</td>\n",
              "      <td>0</td>\n",
              "      <td>47</td>\n",
              "      <td>1</td>\n",
              "      <td>0</td>\n",
              "      <td>0</td>\n",
              "      <td>0</td>\n",
              "      <td>1269</td>\n",
              "      <td>14</td>\n",
              "      <td>145.08942</td>\n",
              "      <td>0</td>\n",
              "      <td>1.88023</td>\n",
              "      <td>2</td>\n",
              "    </tr>\n",
              "    <tr>\n",
              "      <th>4</th>\n",
              "      <td>853</td>\n",
              "      <td>1</td>\n",
              "      <td>117044</td>\n",
              "      <td>0.00000</td>\n",
              "      <td>1</td>\n",
              "      <td>4</td>\n",
              "      <td>0</td>\n",
              "      <td>54</td>\n",
              "      <td>54</td>\n",
              "      <td>0</td>\n",
              "      <td>0</td>\n",
              "      <td>0</td>\n",
              "      <td>0</td>\n",
              "      <td>0</td>\n",
              "      <td>0.00000</td>\n",
              "      <td>0</td>\n",
              "      <td>0.00723</td>\n",
              "      <td>4</td>\n",
              "    </tr>\n",
              "    <tr>\n",
              "      <th>5</th>\n",
              "      <td>1253</td>\n",
              "      <td>1</td>\n",
              "      <td>402054</td>\n",
              "      <td>0.00000</td>\n",
              "      <td>6</td>\n",
              "      <td>22</td>\n",
              "      <td>0</td>\n",
              "      <td>0</td>\n",
              "      <td>0</td>\n",
              "      <td>0</td>\n",
              "      <td>0</td>\n",
              "      <td>0</td>\n",
              "      <td>0</td>\n",
              "      <td>13</td>\n",
              "      <td>142.10787</td>\n",
              "      <td>0</td>\n",
              "      <td>0.24255</td>\n",
              "      <td>1</td>\n",
              "    </tr>\n",
              "    <tr>\n",
              "      <th>6</th>\n",
              "      <td>1003</td>\n",
              "      <td>1</td>\n",
              "      <td>201061</td>\n",
              "      <td>0.00000</td>\n",
              "      <td>1</td>\n",
              "      <td>7</td>\n",
              "      <td>0</td>\n",
              "      <td>31</td>\n",
              "      <td>1</td>\n",
              "      <td>0</td>\n",
              "      <td>0</td>\n",
              "      <td>0</td>\n",
              "      <td>1240</td>\n",
              "      <td>0</td>\n",
              "      <td>0.00000</td>\n",
              "      <td>0</td>\n",
              "      <td>0.00719</td>\n",
              "      <td>0</td>\n",
              "    </tr>\n",
              "    <tr>\n",
              "      <th>7</th>\n",
              "      <td>903</td>\n",
              "      <td>1</td>\n",
              "      <td>118058</td>\n",
              "      <td>0.00000</td>\n",
              "      <td>1</td>\n",
              "      <td>5</td>\n",
              "      <td>0</td>\n",
              "      <td>27</td>\n",
              "      <td>27</td>\n",
              "      <td>0</td>\n",
              "      <td>0</td>\n",
              "      <td>0</td>\n",
              "      <td>0</td>\n",
              "      <td>0</td>\n",
              "      <td>0.00000</td>\n",
              "      <td>0</td>\n",
              "      <td>0.00724</td>\n",
              "      <td>4</td>\n",
              "    </tr>\n",
              "    <tr>\n",
              "      <th>8</th>\n",
              "      <td>153</td>\n",
              "      <td>1</td>\n",
              "      <td>103003</td>\n",
              "      <td>0.00000</td>\n",
              "      <td>1</td>\n",
              "      <td>4</td>\n",
              "      <td>0</td>\n",
              "      <td>22</td>\n",
              "      <td>1</td>\n",
              "      <td>0</td>\n",
              "      <td>0</td>\n",
              "      <td>0</td>\n",
              "      <td>1166</td>\n",
              "      <td>29</td>\n",
              "      <td>85.19787</td>\n",
              "      <td>0</td>\n",
              "      <td>2.06959</td>\n",
              "      <td>2</td>\n",
              "    </tr>\n",
              "    <tr>\n",
              "      <th>9</th>\n",
              "      <td>553</td>\n",
              "      <td>0</td>\n",
              "      <td>111093</td>\n",
              "      <td>15.17406</td>\n",
              "      <td>0</td>\n",
              "      <td>2</td>\n",
              "      <td>1</td>\n",
              "      <td>0</td>\n",
              "      <td>0</td>\n",
              "      <td>1</td>\n",
              "      <td>10</td>\n",
              "      <td>22</td>\n",
              "      <td>0</td>\n",
              "      <td>0</td>\n",
              "      <td>0.00000</td>\n",
              "      <td>1</td>\n",
              "      <td>0.04156</td>\n",
              "      <td>3</td>\n",
              "    </tr>\n",
              "  </tbody>\n",
              "</table>\n",
              "</div>"
            ],
            "text/plain": [
              "   Time  Is_CH  Who_CH  Dist_To_CH  ADV_S  ADV_R  JOIN_S  JOIN_R  SCH_S  \\\n",
              "0   353      1  107033     0.00000      1      3       0      71      1   \n",
              "1   753      1  115021     0.00000      1      5       0      59      1   \n",
              "2   853      1  117044     0.00000      1      4       0      54     54   \n",
              "3   153      1  103043     0.00000      1      4       0      47      1   \n",
              "4   853      1  117044     0.00000      1      4       0      54     54   \n",
              "5  1253      1  402054     0.00000      6     22       0       0      0   \n",
              "6  1003      1  201061     0.00000      1      7       0      31      1   \n",
              "7   903      1  118058     0.00000      1      5       0      27     27   \n",
              "8   153      1  103003     0.00000      1      4       0      22      1   \n",
              "9   553      0  111093    15.17406      0      2       1       0      0   \n",
              "\n",
              "   SCH_R  Rank  DATA_S  DATA_R  Data_Sent_To_BS  Dist_CH_To_BS  Send_code  \\\n",
              "0      0     0       0    1349                9      162.55050          0   \n",
              "1      0     0       0    1298                0        0.00000          0   \n",
              "2      0     0       0       0                0        0.00000          0   \n",
              "3      0     0       0    1269               14      145.08942          0   \n",
              "4      0     0       0       0                0        0.00000          0   \n",
              "5      0     0       0       0               13      142.10787          0   \n",
              "6      0     0       0    1240                0        0.00000          0   \n",
              "7      0     0       0       0                0        0.00000          0   \n",
              "8      0     0       0    1166               29       85.19787          0   \n",
              "9      1    10      22       0                0        0.00000          1   \n",
              "\n",
              "   Consumed_Energy  Attack_Type  \n",
              "0          2.03296            2  \n",
              "1          0.00721            0  \n",
              "2          0.00723            4  \n",
              "3          1.88023            2  \n",
              "4          0.00723            4  \n",
              "5          0.24255            1  \n",
              "6          0.00719            0  \n",
              "7          0.00724            4  \n",
              "8          2.06959            2  \n",
              "9          0.04156            3  "
            ]
          },
          "execution_count": 42,
          "metadata": {},
          "output_type": "execute_result"
        }
      ],
      "source": [
        "df.head(10)"
      ],
      "id": "7_xhdPDr9_uA"
    },
    {
      "cell_type": "code",
      "execution_count": null,
      "metadata": {
        "id": "5b2w7lMX9_uA",
        "outputId": "ae49fdb4-cb76-4628-fcca-1d34692b38de"
      },
      "outputs": [
        {
          "data": {
            "text/plain": [
              "array([2, 0, 4, 1, 3])"
            ]
          },
          "execution_count": 43,
          "metadata": {},
          "output_type": "execute_result"
        }
      ],
      "source": [
        "df.Attack_Type.unique()"
      ],
      "id": "5b2w7lMX9_uA"
    },
    {
      "cell_type": "code",
      "execution_count": null,
      "metadata": {
        "id": "rfn37p5A9_uA"
      },
      "outputs": [],
      "source": [],
      "id": "rfn37p5A9_uA"
    }
  ],
  "metadata": {
    "kernelspec": {
      "display_name": "Python 3",
      "language": "python",
      "name": "python3"
    },
    "language_info": {
      "codemirror_mode": {
        "name": "ipython",
        "version": 3
      },
      "file_extension": ".py",
      "mimetype": "text/x-python",
      "name": "python",
      "nbconvert_exporter": "python",
      "pygments_lexer": "ipython3",
      "version": "3.8.5"
    },
    "colab": {
      "provenance": [],
      "include_colab_link": true
    }
  },
  "nbformat": 4,
  "nbformat_minor": 5
}
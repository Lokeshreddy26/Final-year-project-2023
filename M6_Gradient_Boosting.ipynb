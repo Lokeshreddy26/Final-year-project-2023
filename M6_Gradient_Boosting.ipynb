{
  "cells": [
    {
      "cell_type": "markdown",
      "metadata": {
        "id": "view-in-github",
        "colab_type": "text"
      },
      "source": [
        "<a href=\"https://colab.research.google.com/github/Lokeshreddy26/Final-year-project-2023/blob/main/M6_Gradient_Boosting.ipynb\" target=\"_parent\"><img src=\"https://colab.research.google.com/assets/colab-badge.svg\" alt=\"Open In Colab\"/></a>"
      ]
    },
    {
      "cell_type": "markdown",
      "metadata": {
        "id": "dMzjJ22m9olw"
      },
      "source": [
        "# Module - 6"
      ],
      "id": "dMzjJ22m9olw"
    },
    {
      "cell_type": "markdown",
      "metadata": {
        "id": "ootKonLc9ol9"
      },
      "source": [
        "Gradient Boosting Classifier"
      ],
      "id": "ootKonLc9ol9"
    },
    {
      "cell_type": "code",
      "execution_count": null,
      "metadata": {
        "id": "n0aGlpvI9ol_"
      },
      "outputs": [],
      "source": [
        "import pandas as p\n",
        "import numpy as n\n",
        "import seaborn as s\n",
        "import matplotlib.pyplot as plt"
      ],
      "id": "n0aGlpvI9ol_"
    },
    {
      "cell_type": "code",
      "execution_count": null,
      "metadata": {
        "id": "y5MK7BEC9omF"
      },
      "outputs": [],
      "source": [
        "import warnings\n",
        "warnings.filterwarnings('ignore')"
      ],
      "id": "y5MK7BEC9omF"
    },
    {
      "cell_type": "code",
      "execution_count": null,
      "metadata": {
        "id": "TDpfeLn89omG"
      },
      "outputs": [],
      "source": [
        "data=p.read_excel('WSND.xlsx')"
      ],
      "id": "TDpfeLn89omG"
    },
    {
      "cell_type": "code",
      "execution_count": null,
      "metadata": {
        "id": "WVrb1O8k9omI"
      },
      "outputs": [],
      "source": [
        "df=data.dropna()"
      ],
      "id": "WVrb1O8k9omI"
    },
    {
      "cell_type": "code",
      "execution_count": null,
      "metadata": {
        "id": "YxF67wWU9omK",
        "outputId": "b2ab9f95-01d3-4d9d-c201-b54d1afe1e5b"
      },
      "outputs": [
        {
          "data": {
            "text/plain": [
              "Index(['Id', 'Time', 'Is_CH', 'Who_CH', 'Dist_To_CH', 'ADV_S', 'ADV_R',\n",
              "       'JOIN_S', 'JOIN_R', 'SCH_S', 'SCH_R', 'Rank', 'DATA_S', 'DATA_R',\n",
              "       'Data_Sent_To_BS', 'Dist_CH_To_BS', 'Send_code', 'Consumed_Energy',\n",
              "       'Attack_Type'],\n",
              "      dtype='object')"
            ]
          },
          "execution_count": 5,
          "metadata": {},
          "output_type": "execute_result"
        }
      ],
      "source": [
        "df.columns"
      ],
      "id": "YxF67wWU9omK"
    },
    {
      "cell_type": "code",
      "execution_count": null,
      "metadata": {
        "id": "lmyHRh_H9omN"
      },
      "outputs": [],
      "source": [
        "del df['Id']\n",
        "del df['Time']\n",
        "del df['Is_CH']\n",
        "del df['JOIN_R']\n",
        "del df['DATA_R']"
      ],
      "id": "lmyHRh_H9omN"
    },
    {
      "cell_type": "code",
      "execution_count": null,
      "metadata": {
        "id": "ZR7gpleP9omQ",
        "outputId": "e7f6cace-0b96-4fca-d978-c8224d7de809"
      },
      "outputs": [
        {
          "data": {
            "text/plain": [
              "Index(['Who_CH', 'Dist_To_CH', 'ADV_S', 'ADV_R', 'JOIN_S', 'SCH_S', 'SCH_R',\n",
              "       'Rank', 'DATA_S', 'Data_Sent_To_BS', 'Dist_CH_To_BS', 'Send_code',\n",
              "       'Consumed_Energy', 'Attack_Type'],\n",
              "      dtype='object')"
            ]
          },
          "execution_count": 7,
          "metadata": {},
          "output_type": "execute_result"
        }
      ],
      "source": [
        "df.columns"
      ],
      "id": "ZR7gpleP9omQ"
    },
    {
      "cell_type": "code",
      "execution_count": null,
      "metadata": {
        "id": "OdTTw_Ux9omS"
      },
      "outputs": [],
      "source": [
        "from sklearn.preprocessing import LabelEncoder\n",
        "var_mod = ['Attack_Type']\n",
        "le = LabelEncoder()\n",
        "for i in var_mod:\n",
        "    df[i] = le.fit_transform(df[i]).astype(int)"
      ],
      "id": "OdTTw_Ux9omS"
    },
    {
      "cell_type": "code",
      "execution_count": null,
      "metadata": {
        "id": "V-Rf2wcV9omU"
      },
      "outputs": [],
      "source": [
        "#preprocessing, split test and dataset, split response variable\n",
        "X = df.drop(labels='Attack_Type', axis=1)\n",
        "#Response variable\n",
        "y = df.loc[:,'Attack_Type']    "
      ],
      "id": "V-Rf2wcV9omU"
    },
    {
      "cell_type": "code",
      "execution_count": null,
      "metadata": {
        "id": "2g4TmfKy9omV",
        "outputId": "de0d1ef4-1894-40dd-dcff-e9373ac753d9"
      },
      "outputs": [
        {
          "name": "stdout",
          "output_type": "stream",
          "text": [
            "Number of training dataset:  350\n",
            "Number of test dataset:  150\n",
            "Total number of dataset:  500\n"
          ]
        }
      ],
      "source": [
        "from sklearn.model_selection import train_test_split\n",
        "X_train, X_test, y_train, y_test = train_test_split(X, y, test_size=0.30, random_state=1, stratify=y)\n",
        "print(\"Number of training dataset: \", len(X_train))\n",
        "print(\"Number of test dataset: \", len(X_test))\n",
        "print(\"Total number of dataset: \", len(X_train)+len(X_test))\n"
      ],
      "id": "2g4TmfKy9omV"
    },
    {
      "cell_type": "code",
      "execution_count": null,
      "metadata": {
        "id": "TgL0Z9aN9omX"
      },
      "outputs": [],
      "source": [
        "from sklearn.metrics import accuracy_score, confusion_matrix, classification_report\n",
        "from sklearn.ensemble import GradientBoostingClassifier\n",
        "from sklearn.model_selection import cross_val_score"
      ],
      "id": "TgL0Z9aN9omX"
    },
    {
      "cell_type": "code",
      "execution_count": null,
      "metadata": {
        "id": "xDqJTNx59omZ",
        "outputId": "2e7a78bf-25cb-4b04-aa32-93cd2b71b5df"
      },
      "outputs": [
        {
          "name": "stdout",
          "output_type": "stream",
          "text": [
            "\n",
            "Classification report of Gradient Boosting Classifier Results:\n",
            "\n",
            "              precision    recall  f1-score   support\n",
            "\n",
            "           0       1.00      1.00      1.00        30\n",
            "           1       1.00      1.00      1.00        30\n",
            "           2       1.00      1.00      1.00        30\n",
            "           3       1.00      1.00      1.00        30\n",
            "           4       1.00      1.00      1.00        30\n",
            "\n",
            "    accuracy                           1.00       150\n",
            "   macro avg       1.00      1.00      1.00       150\n",
            "weighted avg       1.00      1.00      1.00       150\n",
            "\n",
            "\n",
            "Confusion Matrix result of Gradient Boosting Classifier is:\n",
            " [[30  0  0  0  0]\n",
            " [ 0 30  0  0  0]\n",
            " [ 0  0 30  0  0]\n",
            " [ 0  0  0 30  0]\n",
            " [ 0  0  0  0 30]]\n",
            "\n",
            "Accuracy of Gradient Boosting Classifier is: 100.0\n"
          ]
        }
      ],
      "source": [
        "gbc = GradientBoostingClassifier()\n",
        "gbc.fit(X_train,y_train)\n",
        "predictgbc = gbc.predict(X_test)\n",
        "\n",
        "print(\"\")\n",
        "print('Classification report of Gradient Boosting Classifier Results:')\n",
        "print(\"\")\n",
        "print(classification_report(y_test,predictgbc))\n",
        "\n",
        "print(\"\")\n",
        "cm1=confusion_matrix(y_test,predictgbc)\n",
        "print('Confusion Matrix result of Gradient Boosting Classifier is:\\n',cm1)\n",
        "print(\"\")\n",
        "\n",
        "accuracy = accuracy_score(y_test, predictgbc)\n",
        "print('Accuracy of Gradient Boosting Classifier is:', accuracy*100)"
      ],
      "id": "xDqJTNx59omZ"
    },
    {
      "cell_type": "code",
      "execution_count": null,
      "metadata": {
        "id": "XLGVZhdG9oma"
      },
      "outputs": [],
      "source": [],
      "id": "XLGVZhdG9oma"
    },
    {
      "cell_type": "markdown",
      "metadata": {
        "id": "VU2EWrZP9omb"
      },
      "source": [
        "Saving Model"
      ],
      "id": "VU2EWrZP9omb"
    },
    {
      "cell_type": "code",
      "execution_count": null,
      "metadata": {
        "id": "OtGITTf19omc",
        "outputId": "f00d79eb-e884-47cc-8b4c-26e862c93e1c"
      },
      "outputs": [
        {
          "data": {
            "text/plain": [
              "['gbc.pkl']"
            ]
          },
          "execution_count": 13,
          "metadata": {},
          "output_type": "execute_result"
        }
      ],
      "source": [
        "import joblib\n",
        "joblib.dump(gbc,'gbc.pkl')"
      ],
      "id": "OtGITTf19omc"
    },
    {
      "cell_type": "code",
      "execution_count": null,
      "metadata": {
        "id": "tdEW6rAz9omd"
      },
      "outputs": [],
      "source": [],
      "id": "tdEW6rAz9omd"
    },
    {
      "cell_type": "code",
      "execution_count": null,
      "metadata": {
        "id": "QruIKg099ome"
      },
      "outputs": [],
      "source": [],
      "id": "QruIKg099ome"
    },
    {
      "cell_type": "code",
      "execution_count": null,
      "metadata": {
        "id": "0513hfgo9omf"
      },
      "outputs": [],
      "source": [],
      "id": "0513hfgo9omf"
    }
  ],
  "metadata": {
    "kernelspec": {
      "display_name": "Python 3",
      "language": "python",
      "name": "python3"
    },
    "language_info": {
      "codemirror_mode": {
        "name": "ipython",
        "version": 3
      },
      "file_extension": ".py",
      "mimetype": "text/x-python",
      "name": "python",
      "nbconvert_exporter": "python",
      "pygments_lexer": "ipython3",
      "version": "3.8.5"
    },
    "colab": {
      "provenance": [],
      "include_colab_link": true
    }
  },
  "nbformat": 4,
  "nbformat_minor": 5
}
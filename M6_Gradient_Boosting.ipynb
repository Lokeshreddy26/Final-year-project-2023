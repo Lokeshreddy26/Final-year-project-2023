{
  "cells": [
    {
      "cell_type": "markdown",
      "metadata": {
        "id": "view-in-github",
        "colab_type": "text"
      },
      "source": [
        "<a href=\"https://colab.research.google.com/github/Lokeshreddy26/Final-year-project-2023/blob/main/M6_Gradient_Boosting.ipynb\" target=\"_parent\"><img src=\"https://colab.research.google.com/assets/colab-badge.svg\" alt=\"Open In Colab\"/></a>"
      ]
    },
    {
      "cell_type": "markdown",
      "metadata": {
        "id": "ddtc5kSv6CCC"
      },
      "source": [
        "# Module - 6"
      ],
      "id": "ddtc5kSv6CCC"
    },
    {
      "cell_type": "markdown",
      "metadata": {
        "id": "mErcgxB96CCP"
      },
      "source": [
        "Gradient Boosting Classifier"
      ],
      "id": "mErcgxB96CCP"
    },
    {
      "cell_type": "code",
      "execution_count": null,
      "metadata": {
        "id": "hKkkbTMS6CCS"
      },
      "outputs": [],
      "source": [
        "import pandas as p\n",
        "import numpy as n\n",
        "import seaborn as s\n",
        "import matplotlib.pyplot as plt"
      ],
      "id": "hKkkbTMS6CCS"
    },
    {
      "cell_type": "code",
      "execution_count": null,
      "metadata": {
        "id": "occZAgpG6CCX"
      },
      "outputs": [],
      "source": [
        "import warnings\n",
        "warnings.filterwarnings('ignore')"
      ],
      "id": "occZAgpG6CCX"
    },
    {
      "cell_type": "code",
      "execution_count": null,
      "metadata": {
        "id": "qyDEwsm_6CCZ"
      },
      "outputs": [],
      "source": [
        "data=p.read_excel('WSND.xlsx')"
      ],
      "id": "qyDEwsm_6CCZ"
    },
    {
      "cell_type": "code",
      "execution_count": null,
      "metadata": {
        "id": "9lilPErY6CCa"
      },
      "outputs": [],
      "source": [
        "df=data.dropna()"
      ],
      "id": "9lilPErY6CCa"
    },
    {
      "cell_type": "code",
      "execution_count": null,
      "metadata": {
        "id": "X-VCcUCQ6CCc",
        "outputId": "adf36ba5-976d-44e3-f0e4-e2bcfe51c985"
      },
      "outputs": [
        {
          "data": {
            "text/plain": [
              "Index(['Id', 'Time', 'Is_CH', 'Who_CH', 'Dist_To_CH', 'ADV_S', 'ADV_R',\n",
              "       'JOIN_S', 'JOIN_R', 'SCH_S', 'SCH_R', 'Rank', 'DATA_S', 'DATA_R',\n",
              "       'Data_Sent_To_BS', 'Dist_CH_To_BS', 'Send_code', 'Consumed_Energy',\n",
              "       'Attack_Type'],\n",
              "      dtype='object')"
            ]
          },
          "execution_count": 5,
          "metadata": {},
          "output_type": "execute_result"
        }
      ],
      "source": [
        "df.columns"
      ],
      "id": "X-VCcUCQ6CCc"
    },
    {
      "cell_type": "code",
      "execution_count": null,
      "metadata": {
        "id": "khpPn1KS6CCg"
      },
      "outputs": [],
      "source": [
        "del df['Id']\n",
        "del df['Time']\n",
        "del df['Is_CH']\n",
        "del df['JOIN_R']\n",
        "del df['DATA_R']"
      ],
      "id": "khpPn1KS6CCg"
    },
    {
      "cell_type": "code",
      "execution_count": null,
      "metadata": {
        "id": "ZlxtcnIU6CCi",
        "outputId": "8c1dc053-101f-4b9c-c31f-723a867d806d"
      },
      "outputs": [
        {
          "data": {
            "text/plain": [
              "Index(['Who_CH', 'Dist_To_CH', 'ADV_S', 'ADV_R', 'JOIN_S', 'SCH_S', 'SCH_R',\n",
              "       'Rank', 'DATA_S', 'Data_Sent_To_BS', 'Dist_CH_To_BS', 'Send_code',\n",
              "       'Consumed_Energy', 'Attack_Type'],\n",
              "      dtype='object')"
            ]
          },
          "execution_count": 7,
          "metadata": {},
          "output_type": "execute_result"
        }
      ],
      "source": [
        "df.columns"
      ],
      "id": "ZlxtcnIU6CCi"
    },
    {
      "cell_type": "code",
      "execution_count": null,
      "metadata": {
        "id": "vQC8R6CD6CCk"
      },
      "outputs": [],
      "source": [
        "from sklearn.preprocessing import LabelEncoder\n",
        "var_mod = ['Attack_Type']\n",
        "le = LabelEncoder()\n",
        "for i in var_mod:\n",
        "    df[i] = le.fit_transform(df[i]).astype(int)"
      ],
      "id": "vQC8R6CD6CCk"
    },
    {
      "cell_type": "code",
      "execution_count": null,
      "metadata": {
        "id": "kFs22e1m6CCm"
      },
      "outputs": [],
      "source": [
        "#preprocessing, split test and dataset, split response variable\n",
        "X = df.drop(labels='Attack_Type', axis=1)\n",
        "#Response variable\n",
        "y = df.loc[:,'Attack_Type']    "
      ],
      "id": "kFs22e1m6CCm"
    },
    {
      "cell_type": "code",
      "execution_count": null,
      "metadata": {
        "id": "nhTCYt1h6CCo",
        "outputId": "2926a8e1-95b0-402d-ba76-fad60e7f187a"
      },
      "outputs": [
        {
          "name": "stdout",
          "output_type": "stream",
          "text": [
            "Number of training dataset:  350\n",
            "Number of test dataset:  150\n",
            "Total number of dataset:  500\n"
          ]
        }
      ],
      "source": [
        "from sklearn.model_selection import train_test_split\n",
        "X_train, X_test, y_train, y_test = train_test_split(X, y, test_size=0.30, random_state=1, stratify=y)\n",
        "print(\"Number of training dataset: \", len(X_train))\n",
        "print(\"Number of test dataset: \", len(X_test))\n",
        "print(\"Total number of dataset: \", len(X_train)+len(X_test))\n"
      ],
      "id": "nhTCYt1h6CCo"
    },
    {
      "cell_type": "code",
      "execution_count": null,
      "metadata": {
        "id": "9B4XXhhW6CCq"
      },
      "outputs": [],
      "source": [
        "from sklearn.metrics import accuracy_score, confusion_matrix, classification_report\n",
        "from sklearn.ensemble import GradientBoostingClassifier\n",
        "from sklearn.model_selection import cross_val_score"
      ],
      "id": "9B4XXhhW6CCq"
    },
    {
      "cell_type": "code",
      "execution_count": null,
      "metadata": {
        "id": "tEpfCj_K6CCr",
        "outputId": "489675e9-3ac6-4ee5-ad98-f8a23685bb4c"
      },
      "outputs": [
        {
          "name": "stdout",
          "output_type": "stream",
          "text": [
            "\n",
            "Classification report of Gradient Boosting Classifier Results:\n",
            "\n",
            "              precision    recall  f1-score   support\n",
            "\n",
            "           0       1.00      1.00      1.00        30\n",
            "           1       1.00      1.00      1.00        30\n",
            "           2       1.00      1.00      1.00        30\n",
            "           3       1.00      1.00      1.00        30\n",
            "           4       1.00      1.00      1.00        30\n",
            "\n",
            "    accuracy                           1.00       150\n",
            "   macro avg       1.00      1.00      1.00       150\n",
            "weighted avg       1.00      1.00      1.00       150\n",
            "\n",
            "\n",
            "Confusion Matrix result of Gradient Boosting Classifier is:\n",
            " [[30  0  0  0  0]\n",
            " [ 0 30  0  0  0]\n",
            " [ 0  0 30  0  0]\n",
            " [ 0  0  0 30  0]\n",
            " [ 0  0  0  0 30]]\n",
            "\n",
            "Accuracy of Gradient Boosting Classifier is: 100.0\n"
          ]
        }
      ],
      "source": [
        "gbc = GradientBoostingClassifier()\n",
        "gbc.fit(X_train,y_train)\n",
        "predictgbc = gbc.predict(X_test)\n",
        "\n",
        "print(\"\")\n",
        "print('Classification report of Gradient Boosting Classifier Results:')\n",
        "print(\"\")\n",
        "print(classification_report(y_test,predictgbc))\n",
        "\n",
        "print(\"\")\n",
        "cm1=confusion_matrix(y_test,predictgbc)\n",
        "print('Confusion Matrix result of Gradient Boosting Classifier is:\\n',cm1)\n",
        "print(\"\")\n",
        "\n",
        "accuracy = accuracy_score(y_test, predictgbc)\n",
        "print('Accuracy of Gradient Boosting Classifier is:', accuracy*100)"
      ],
      "id": "tEpfCj_K6CCr"
    },
    {
      "cell_type": "code",
      "execution_count": null,
      "metadata": {
        "id": "bkohsPSW6CCt"
      },
      "outputs": [],
      "source": [],
      "id": "bkohsPSW6CCt"
    },
    {
      "cell_type": "markdown",
      "metadata": {
        "id": "m1EGqgfo6CCu"
      },
      "source": [
        "Saving Model"
      ],
      "id": "m1EGqgfo6CCu"
    },
    {
      "cell_type": "code",
      "execution_count": null,
      "metadata": {
        "id": "5xm48sth6CCv",
        "outputId": "cb96d290-c910-406c-af17-ed19549208c5"
      },
      "outputs": [
        {
          "data": {
            "text/plain": [
              "['gbc.pkl']"
            ]
          },
          "execution_count": 13,
          "metadata": {},
          "output_type": "execute_result"
        }
      ],
      "source": [
        "import joblib\n",
        "joblib.dump(gbc,'gbc.pkl')"
      ],
      "id": "5xm48sth6CCv"
    },
    {
      "cell_type": "code",
      "execution_count": null,
      "metadata": {
        "id": "XEJN-Ao46CCw"
      },
      "outputs": [],
      "source": [],
      "id": "XEJN-Ao46CCw"
    },
    {
      "cell_type": "code",
      "execution_count": null,
      "metadata": {
        "id": "bXxTxCvI6CCx"
      },
      "outputs": [],
      "source": [],
      "id": "bXxTxCvI6CCx"
    },
    {
      "cell_type": "code",
      "execution_count": null,
      "metadata": {
        "id": "dS1JSpU46CCx"
      },
      "outputs": [],
      "source": [],
      "id": "dS1JSpU46CCx"
    }
  ],
  "metadata": {
    "kernelspec": {
      "display_name": "Python 3",
      "language": "python",
      "name": "python3"
    },
    "language_info": {
      "codemirror_mode": {
        "name": "ipython",
        "version": 3
      },
      "file_extension": ".py",
      "mimetype": "text/x-python",
      "name": "python",
      "nbconvert_exporter": "python",
      "pygments_lexer": "ipython3",
      "version": "3.8.5"
    },
    "colab": {
      "provenance": [],
      "include_colab_link": true
    }
  },
  "nbformat": 4,
  "nbformat_minor": 5
}
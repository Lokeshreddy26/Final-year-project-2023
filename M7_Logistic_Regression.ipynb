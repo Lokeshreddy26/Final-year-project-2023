{
  "cells": [
    {
      "cell_type": "markdown",
      "metadata": {
        "id": "view-in-github",
        "colab_type": "text"
      },
      "source": [
        "<a href=\"https://colab.research.google.com/github/Lokeshreddy26/Final-year-project-2023/blob/main/M7_Logistic_Regression.ipynb\" target=\"_parent\"><img src=\"https://colab.research.google.com/assets/colab-badge.svg\" alt=\"Open In Colab\"/></a>"
      ]
    },
    {
      "cell_type": "markdown",
      "metadata": {
        "id": "3kmxHEO59Zoi"
      },
      "source": [
        "# Module 7 : Performance measurements of Logistic Regression"
      ],
      "id": "3kmxHEO59Zoi"
    },
    {
      "cell_type": "code",
      "execution_count": null,
      "metadata": {
        "id": "VH-rgacS9Zol"
      },
      "outputs": [],
      "source": [
        "#import library packages\n",
        "import pandas as p\n",
        "import matplotlib.pyplot as plt\n",
        "import seaborn as s\n",
        "import numpy as n"
      ],
      "id": "VH-rgacS9Zol"
    },
    {
      "cell_type": "code",
      "execution_count": null,
      "metadata": {
        "id": "cLYrhjFQ9Zom"
      },
      "outputs": [],
      "source": [
        "import warnings\n",
        "warnings.filterwarnings('ignore')"
      ],
      "id": "cLYrhjFQ9Zom"
    },
    {
      "cell_type": "code",
      "execution_count": null,
      "metadata": {
        "id": "0UUPe3Jt9Zon"
      },
      "outputs": [],
      "source": [
        "#Load given dataset\n",
        "data = p.read_excel(\"WSND.xlsx\")"
      ],
      "id": "0UUPe3Jt9Zon"
    },
    {
      "cell_type": "code",
      "execution_count": null,
      "metadata": {
        "id": "OYEG_AfV9Zon"
      },
      "outputs": [],
      "source": [
        "df = data.dropna()"
      ],
      "id": "OYEG_AfV9Zon"
    },
    {
      "cell_type": "code",
      "execution_count": null,
      "metadata": {
        "id": "_1QydGRx9Zoo",
        "outputId": "3789a251-548d-4b6f-e876-4eebe7f711c4"
      },
      "outputs": [
        {
          "data": {
            "text/plain": [
              "Index(['Id', 'Time', 'Is_CH', 'Who_CH', 'Dist_To_CH', 'ADV_S', 'ADV_R',\n",
              "       'JOIN_S', 'JOIN_R', 'SCH_S', 'SCH_R', 'Rank', 'DATA_S', 'DATA_R',\n",
              "       'Data_Sent_To_BS', 'Dist_CH_To_BS', 'Send_code', 'Consumed_Energy',\n",
              "       'Attack_Type'],\n",
              "      dtype='object')"
            ]
          },
          "execution_count": 5,
          "metadata": {},
          "output_type": "execute_result"
        }
      ],
      "source": [
        "df.columns"
      ],
      "id": "_1QydGRx9Zoo"
    },
    {
      "cell_type": "code",
      "execution_count": null,
      "metadata": {
        "id": "nTCW0icq9Zoo",
        "outputId": "fcdb069a-8509-4b9d-9a06-1391474428de"
      },
      "outputs": [
        {
          "data": {
            "text/plain": [
              "array(['Grayhole', 'Blackhole', 'Scheduling', 'Flooding', 'Normal'],\n",
              "      dtype=object)"
            ]
          },
          "execution_count": 6,
          "metadata": {},
          "output_type": "execute_result"
        }
      ],
      "source": [
        "df['Attack_Type'].unique()"
      ],
      "id": "nTCW0icq9Zoo"
    },
    {
      "cell_type": "code",
      "execution_count": null,
      "metadata": {
        "id": "EM2ABMX19Zop",
        "outputId": "78734ec2-5c33-4624-efb8-20ddc9863967"
      },
      "outputs": [
        {
          "data": {
            "text/plain": [
              "Scheduling    100\n",
              "Blackhole     100\n",
              "Grayhole      100\n",
              "Flooding      100\n",
              "Normal        100\n",
              "Name: Attack_Type, dtype: int64"
            ]
          },
          "execution_count": 7,
          "metadata": {},
          "output_type": "execute_result"
        }
      ],
      "source": [
        "df['Attack_Type'].value_counts()"
      ],
      "id": "EM2ABMX19Zop"
    },
    {
      "cell_type": "code",
      "execution_count": null,
      "metadata": {
        "id": "ZDh6WWWu9Zop"
      },
      "outputs": [],
      "source": [
        "del df['Id']\n",
        "del df['Time']\n",
        "del df['Is_CH'] \n",
        "del df['DATA_R']\n",
        "del df['JOIN_R']"
      ],
      "id": "ZDh6WWWu9Zop"
    },
    {
      "cell_type": "code",
      "execution_count": null,
      "metadata": {
        "id": "1TXjZtPZ9Zoq",
        "outputId": "15fbca8d-a3fd-4442-8524-571ac9cb376f"
      },
      "outputs": [
        {
          "data": {
            "text/plain": [
              "Index(['Who_CH', 'Dist_To_CH', 'ADV_S', 'ADV_R', 'JOIN_S', 'SCH_S', 'SCH_R',\n",
              "       'Rank', 'DATA_S', 'Data_Sent_To_BS', 'Dist_CH_To_BS', 'Send_code',\n",
              "       'Consumed_Energy', 'Attack_Type'],\n",
              "      dtype='object')"
            ]
          },
          "execution_count": 9,
          "metadata": {},
          "output_type": "execute_result"
        }
      ],
      "source": [
        "df.columns"
      ],
      "id": "1TXjZtPZ9Zoq"
    },
    {
      "cell_type": "code",
      "execution_count": null,
      "metadata": {
        "id": "mV921Md79Zoq"
      },
      "outputs": [],
      "source": [
        "from sklearn.preprocessing import LabelEncoder\n",
        "var_mod = ['Attack_Type']\n",
        "le = LabelEncoder()\n",
        "for i in var_mod:\n",
        "    df[i] = le.fit_transform(df[i]).astype(int)"
      ],
      "id": "mV921Md79Zoq"
    },
    {
      "cell_type": "code",
      "execution_count": null,
      "metadata": {
        "id": "o75_ZKhh9Zor",
        "outputId": "cb567c44-a061-4ae9-d272-f3b67698c2f5"
      },
      "outputs": [
        {
          "data": {
            "text/plain": [
              "array([2, 0, 4, 1, 3])"
            ]
          },
          "execution_count": 11,
          "metadata": {},
          "output_type": "execute_result"
        }
      ],
      "source": [
        "df['Attack_Type'].unique()"
      ],
      "id": "o75_ZKhh9Zor"
    },
    {
      "cell_type": "code",
      "execution_count": null,
      "metadata": {
        "id": "ueXHKABf9Zor"
      },
      "outputs": [],
      "source": [
        "#preprocessing, split test and dataset, split response variable\n",
        "X = df.drop(labels='Attack_Type', axis=1)\n",
        "#Response variable\n",
        "y = df.loc[:,'Attack_Type']  "
      ],
      "id": "ueXHKABf9Zor"
    },
    {
      "cell_type": "code",
      "execution_count": null,
      "metadata": {
        "id": "vLBcp-WB9Zor",
        "outputId": "edb64132-3761-4dc0-adbe-bd7ba5f62fd3"
      },
      "outputs": [
        {
          "name": "stdout",
          "output_type": "stream",
          "text": [
            "Number of training dataset:  350\n",
            "Number of test dataset:  150\n",
            "Total number of dataset:  500\n"
          ]
        }
      ],
      "source": [
        "from sklearn.model_selection import train_test_split\n",
        "X_train, X_test, y_train, y_test = train_test_split(X, y, test_size=0.30, random_state=1, stratify=y)\n",
        "print(\"Number of training dataset: \", len(X_train))\n",
        "print(\"Number of test dataset: \", len(X_test))\n",
        "print(\"Total number of dataset: \", len(X_train)+len(X_test))"
      ],
      "id": "vLBcp-WB9Zor"
    },
    {
      "cell_type": "code",
      "execution_count": null,
      "metadata": {
        "id": "GBOjJ5Wx9Zos"
      },
      "outputs": [],
      "source": [
        "from sklearn.metrics import accuracy_score, confusion_matrix, classification_report\n",
        "from sklearn.linear_model import LogisticRegression\n",
        "from sklearn.model_selection import cross_val_score"
      ],
      "id": "GBOjJ5Wx9Zos"
    },
    {
      "cell_type": "code",
      "execution_count": null,
      "metadata": {
        "id": "yQT5jWzl9Zos",
        "outputId": "5cacf6c1-0887-4228-f9b2-7183be10d4b5"
      },
      "outputs": [
        {
          "name": "stdout",
          "output_type": "stream",
          "text": [
            "\n",
            "Classification report of Logistic Regression Results:\n",
            "\n",
            "              precision    recall  f1-score   support\n",
            "\n",
            "           0       0.83      1.00      0.91        30\n",
            "           1       0.52      1.00      0.68        30\n",
            "           2       1.00      0.07      0.12        30\n",
            "           3       1.00      1.00      1.00        30\n",
            "           4       1.00      0.80      0.89        30\n",
            "\n",
            "    accuracy                           0.77       150\n",
            "   macro avg       0.87      0.77      0.72       150\n",
            "weighted avg       0.87      0.77      0.72       150\n",
            "\n",
            "\n",
            "Confusion Matrix result of Logistic Regression is:\n",
            " [[30  0  0  0  0]\n",
            " [ 0 30  0  0  0]\n",
            " [ 0 28  2  0  0]\n",
            " [ 0  0  0 30  0]\n",
            " [ 6  0  0  0 24]]\n",
            "\n",
            "Accuracy of Logistic Regression is: 77.33333333333333\n"
          ]
        }
      ],
      "source": [
        "lr = LogisticRegression(max_iter=20)\n",
        "lr.fit(X_train,y_train)\n",
        "predictlr = lr.predict(X_test)\n",
        "\n",
        "print(\"\")\n",
        "print('Classification report of Logistic Regression Results:')\n",
        "print(\"\")\n",
        "print(classification_report(y_test,predictlr))\n",
        "\n",
        "print(\"\")\n",
        "cm1=confusion_matrix(y_test,predictlr)\n",
        "print('Confusion Matrix result of Logistic Regression is:\\n',cm1)\n",
        "print(\"\")\n",
        "\n",
        "accuracy = accuracy_score(y_test, predictlr)\n",
        "print('Accuracy of Logistic Regression is:', accuracy*100)"
      ],
      "id": "yQT5jWzl9Zos"
    },
    {
      "cell_type": "code",
      "execution_count": null,
      "metadata": {
        "id": "FwFEhf1I9Zos"
      },
      "outputs": [],
      "source": [],
      "id": "FwFEhf1I9Zos"
    },
    {
      "cell_type": "code",
      "execution_count": null,
      "metadata": {
        "id": "wSew5-kU9Zos"
      },
      "outputs": [],
      "source": [],
      "id": "wSew5-kU9Zos"
    },
    {
      "cell_type": "code",
      "execution_count": null,
      "metadata": {
        "id": "h6EuN4xb9Zot"
      },
      "outputs": [],
      "source": [],
      "id": "h6EuN4xb9Zot"
    }
  ],
  "metadata": {
    "kernelspec": {
      "display_name": "Python 3",
      "language": "python",
      "name": "python3"
    },
    "language_info": {
      "codemirror_mode": {
        "name": "ipython",
        "version": 3
      },
      "file_extension": ".py",
      "mimetype": "text/x-python",
      "name": "python",
      "nbconvert_exporter": "python",
      "pygments_lexer": "ipython3",
      "version": "3.8.5"
    },
    "colab": {
      "provenance": [],
      "include_colab_link": true
    }
  },
  "nbformat": 4,
  "nbformat_minor": 5
}
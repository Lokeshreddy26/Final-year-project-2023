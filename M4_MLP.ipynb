{
  "cells": [
    {
      "cell_type": "markdown",
      "metadata": {
        "id": "view-in-github",
        "colab_type": "text"
      },
      "source": [
        "<a href=\"https://colab.research.google.com/github/Lokeshreddy26/Final-year-project-2023/blob/main/M4_MLP.ipynb\" target=\"_parent\"><img src=\"https://colab.research.google.com/assets/colab-badge.svg\" alt=\"Open In Colab\"/></a>"
      ]
    },
    {
      "cell_type": "markdown",
      "metadata": {
        "id": "pSl-pzVZ7qmh"
      },
      "source": [
        "# Module 4 : Performance measurements of Multi Layer Perceptron"
      ],
      "id": "pSl-pzVZ7qmh"
    },
    {
      "cell_type": "code",
      "execution_count": null,
      "metadata": {
        "id": "Dnl1k0as7qmu"
      },
      "outputs": [],
      "source": [
        "#import library packages\n",
        "import pandas as p\n",
        "import matplotlib.pyplot as plt\n",
        "import seaborn as s\n",
        "import numpy as n"
      ],
      "id": "Dnl1k0as7qmu"
    },
    {
      "cell_type": "code",
      "execution_count": null,
      "metadata": {
        "id": "wSHUUuZr7qm0"
      },
      "outputs": [],
      "source": [
        "import warnings\n",
        "warnings.filterwarnings('ignore')"
      ],
      "id": "wSHUUuZr7qm0"
    },
    {
      "cell_type": "code",
      "execution_count": null,
      "metadata": {
        "id": "TYETuEQ67qm2"
      },
      "outputs": [],
      "source": [
        "data=p.read_excel('WSND.xlsx')"
      ],
      "id": "TYETuEQ67qm2"
    },
    {
      "cell_type": "code",
      "execution_count": null,
      "metadata": {
        "id": "LlqH6AtA7qm3"
      },
      "outputs": [],
      "source": [
        "df=data.dropna()"
      ],
      "id": "LlqH6AtA7qm3"
    },
    {
      "cell_type": "code",
      "execution_count": null,
      "metadata": {
        "id": "LkCe_x6n7qm5",
        "outputId": "02233cf4-6c63-4d74-e39c-d3173a296f75"
      },
      "outputs": [
        {
          "data": {
            "text/plain": [
              "Index(['Id', 'Time', 'Is_CH', 'Who_CH', 'Dist_To_CH', 'ADV_S', 'ADV_R',\n",
              "       'JOIN_S', 'JOIN_R', 'SCH_S', 'SCH_R', 'Rank', 'DATA_S', 'DATA_R',\n",
              "       'Data_Sent_To_BS', 'Dist_CH_To_BS', 'Send_code', 'Consumed_Energy',\n",
              "       'Attack_Type'],\n",
              "      dtype='object')"
            ]
          },
          "execution_count": 5,
          "metadata": {},
          "output_type": "execute_result"
        }
      ],
      "source": [
        "df.columns"
      ],
      "id": "LkCe_x6n7qm5"
    },
    {
      "cell_type": "code",
      "execution_count": null,
      "metadata": {
        "id": "xNGXbNkm7qm8"
      },
      "outputs": [],
      "source": [
        "del df['Id']\n",
        "del df['Time']\n",
        "del df['Is_CH']\n",
        "del df['JOIN_R']\n",
        "del df['DATA_R']"
      ],
      "id": "xNGXbNkm7qm8"
    },
    {
      "cell_type": "code",
      "execution_count": null,
      "metadata": {
        "id": "EHc3pC0I7qm-",
        "outputId": "03230b5a-f39c-46c6-f92d-65f8b4570bb1"
      },
      "outputs": [
        {
          "data": {
            "text/plain": [
              "Index(['Who_CH', 'Dist_To_CH', 'ADV_S', 'ADV_R', 'JOIN_S', 'SCH_S', 'SCH_R',\n",
              "       'Rank', 'DATA_S', 'Data_Sent_To_BS', 'Dist_CH_To_BS', 'Send_code',\n",
              "       'Consumed_Energy', 'Attack_Type'],\n",
              "      dtype='object')"
            ]
          },
          "execution_count": 7,
          "metadata": {},
          "output_type": "execute_result"
        }
      ],
      "source": [
        "df.columns"
      ],
      "id": "EHc3pC0I7qm-"
    },
    {
      "cell_type": "code",
      "execution_count": null,
      "metadata": {
        "id": "zAjhJ2s87qnB"
      },
      "outputs": [],
      "source": [
        "from sklearn.preprocessing import LabelEncoder\n",
        "var_mod = ['Attack_Type']\n",
        "le = LabelEncoder()\n",
        "for i in var_mod:\n",
        "    df[i] = le.fit_transform(df[i]).astype(int)"
      ],
      "id": "zAjhJ2s87qnB"
    },
    {
      "cell_type": "code",
      "execution_count": null,
      "metadata": {
        "id": "A4I92k3m7qnD"
      },
      "outputs": [],
      "source": [
        "#preprocessing, split test and dataset, split response variable\n",
        "X = df.drop(labels='Attack_Type', axis=1)\n",
        "#Response variable\n",
        "y = df.loc[:,'Attack_Type']    "
      ],
      "id": "A4I92k3m7qnD"
    },
    {
      "cell_type": "code",
      "execution_count": null,
      "metadata": {
        "id": "A20Lqk_G7qnF",
        "outputId": "18e11a6b-8675-492d-9ca5-f3a2d296eba1"
      },
      "outputs": [
        {
          "name": "stdout",
          "output_type": "stream",
          "text": [
            "Number of training dataset:  350\n",
            "Number of test dataset:  150\n",
            "Total number of dataset:  500\n"
          ]
        }
      ],
      "source": [
        "from sklearn.model_selection import train_test_split\n",
        "X_train, X_test, y_train, y_test = train_test_split(X, y, test_size=0.30, random_state=1, stratify=y)\n",
        "print(\"Number of training dataset: \", len(X_train))\n",
        "print(\"Number of test dataset: \", len(X_test))\n",
        "print(\"Total number of dataset: \", len(X_train)+len(X_test))"
      ],
      "id": "A20Lqk_G7qnF"
    },
    {
      "cell_type": "code",
      "execution_count": null,
      "metadata": {
        "id": "S8g4fp6E7qnH"
      },
      "outputs": [],
      "source": [
        "from sklearn.metrics import accuracy_score, confusion_matrix, classification_report\n",
        "from sklearn.neural_network import MLPClassifier\n",
        "from sklearn.model_selection import cross_val_score"
      ],
      "id": "S8g4fp6E7qnH"
    },
    {
      "cell_type": "code",
      "execution_count": null,
      "metadata": {
        "id": "WIndgOTA7qnI",
        "outputId": "75de1234-0276-40ab-a751-72439bbe8c68"
      },
      "outputs": [
        {
          "name": "stdout",
          "output_type": "stream",
          "text": [
            "\n",
            "Classification report of MLP Results:\n",
            "\n",
            "              precision    recall  f1-score   support\n",
            "\n",
            "           0       0.00      0.00      0.00        30\n",
            "           1       0.00      0.00      0.00        30\n",
            "           2       0.00      0.00      0.00        30\n",
            "           3       0.20      1.00      0.33        30\n",
            "           4       0.00      0.00      0.00        30\n",
            "\n",
            "    accuracy                           0.20       150\n",
            "   macro avg       0.04      0.20      0.07       150\n",
            "weighted avg       0.04      0.20      0.07       150\n",
            "\n",
            "\n",
            "Confusion Matrix result of MLP is:\n",
            " [[ 0  0  0 30  0]\n",
            " [ 0  0  0 30  0]\n",
            " [ 0  0  0 30  0]\n",
            " [ 0  0  0 30  0]\n",
            " [ 0  0  0 30  0]]\n",
            "\n",
            "Accuracy of MLP is: 20.0\n"
          ]
        }
      ],
      "source": [
        "mlp = MLPClassifier()\n",
        "mlp.fit(X_train,y_train)\n",
        "predictmlp = mlp.predict(X_test)\n",
        "\n",
        "print(\"\")\n",
        "print('Classification report of MLP Results:')\n",
        "print(\"\")\n",
        "print(classification_report(y_test,predictmlp))\n",
        "\n",
        "print(\"\")\n",
        "cm1=confusion_matrix(y_test,predictmlp)\n",
        "print('Confusion Matrix result of MLP is:\\n',cm1)\n",
        "print(\"\")\n",
        "\n",
        "accuracy = accuracy_score(y_test, predictmlp)\n",
        "print('Accuracy of MLP is:', accuracy*100)"
      ],
      "id": "WIndgOTA7qnI"
    },
    {
      "cell_type": "code",
      "execution_count": null,
      "metadata": {
        "id": "DTE7BLKk7qnK"
      },
      "outputs": [],
      "source": [],
      "id": "DTE7BLKk7qnK"
    },
    {
      "cell_type": "code",
      "execution_count": null,
      "metadata": {
        "id": "_zUsXFTi7qnL"
      },
      "outputs": [],
      "source": [],
      "id": "_zUsXFTi7qnL"
    },
    {
      "cell_type": "code",
      "execution_count": null,
      "metadata": {
        "id": "0Q5_A3EQ7qnL"
      },
      "outputs": [],
      "source": [],
      "id": "0Q5_A3EQ7qnL"
    }
  ],
  "metadata": {
    "kernelspec": {
      "display_name": "Python 3",
      "language": "python",
      "name": "python3"
    },
    "language_info": {
      "codemirror_mode": {
        "name": "ipython",
        "version": 3
      },
      "file_extension": ".py",
      "mimetype": "text/x-python",
      "name": "python",
      "nbconvert_exporter": "python",
      "pygments_lexer": "ipython3",
      "version": "3.8.5"
    },
    "colab": {
      "provenance": [],
      "include_colab_link": true
    }
  },
  "nbformat": 4,
  "nbformat_minor": 5
}
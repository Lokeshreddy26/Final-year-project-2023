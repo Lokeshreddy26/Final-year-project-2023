{
  "cells": [
    {
      "cell_type": "markdown",
      "metadata": {
        "id": "view-in-github",
        "colab_type": "text"
      },
      "source": [
        "<a href=\"https://colab.research.google.com/github/Lokeshreddy26/Final-year-project-2023/blob/main/M4_MLP.ipynb\" target=\"_parent\"><img src=\"https://colab.research.google.com/assets/colab-badge.svg\" alt=\"Open In Colab\"/></a>"
      ]
    },
    {
      "cell_type": "markdown",
      "metadata": {
        "id": "xGeQEYva-okV"
      },
      "source": [
        "# Module 4 : Performance measurements of Multi Layer Perceptron"
      ],
      "id": "xGeQEYva-okV"
    },
    {
      "cell_type": "code",
      "execution_count": null,
      "metadata": {
        "id": "3SAXjByd-okf"
      },
      "outputs": [],
      "source": [
        "#import library packages\n",
        "import pandas as p\n",
        "import matplotlib.pyplot as plt\n",
        "import seaborn as s\n",
        "import numpy as n"
      ],
      "id": "3SAXjByd-okf"
    },
    {
      "cell_type": "code",
      "execution_count": null,
      "metadata": {
        "id": "CBqlPL-T-okk"
      },
      "outputs": [],
      "source": [
        "import warnings\n",
        "warnings.filterwarnings('ignore')"
      ],
      "id": "CBqlPL-T-okk"
    },
    {
      "cell_type": "code",
      "execution_count": null,
      "metadata": {
        "id": "pO0UTlPa-okl"
      },
      "outputs": [],
      "source": [
        "data=p.read_excel('WSND.xlsx')"
      ],
      "id": "pO0UTlPa-okl"
    },
    {
      "cell_type": "code",
      "execution_count": null,
      "metadata": {
        "id": "LCHpF7Vv-okm"
      },
      "outputs": [],
      "source": [
        "df=data.dropna()"
      ],
      "id": "LCHpF7Vv-okm"
    },
    {
      "cell_type": "code",
      "execution_count": null,
      "metadata": {
        "id": "qXZJq-B8-okn",
        "outputId": "83d9fe3a-76d6-4934-c1c7-29bdf7a3c1b0"
      },
      "outputs": [
        {
          "data": {
            "text/plain": [
              "Index(['Id', 'Time', 'Is_CH', 'Who_CH', 'Dist_To_CH', 'ADV_S', 'ADV_R',\n",
              "       'JOIN_S', 'JOIN_R', 'SCH_S', 'SCH_R', 'Rank', 'DATA_S', 'DATA_R',\n",
              "       'Data_Sent_To_BS', 'Dist_CH_To_BS', 'Send_code', 'Consumed_Energy',\n",
              "       'Attack_Type'],\n",
              "      dtype='object')"
            ]
          },
          "execution_count": 5,
          "metadata": {},
          "output_type": "execute_result"
        }
      ],
      "source": [
        "df.columns"
      ],
      "id": "qXZJq-B8-okn"
    },
    {
      "cell_type": "code",
      "execution_count": null,
      "metadata": {
        "id": "S9G-BEMm-okq"
      },
      "outputs": [],
      "source": [
        "del df['Id']\n",
        "del df['Time']\n",
        "del df['Is_CH']\n",
        "del df['JOIN_R']\n",
        "del df['DATA_R']"
      ],
      "id": "S9G-BEMm-okq"
    },
    {
      "cell_type": "code",
      "execution_count": null,
      "metadata": {
        "id": "vCJBaos3-okr",
        "outputId": "adbc5c55-074d-4627-c517-4ef07dcf888c"
      },
      "outputs": [
        {
          "data": {
            "text/plain": [
              "Index(['Who_CH', 'Dist_To_CH', 'ADV_S', 'ADV_R', 'JOIN_S', 'SCH_S', 'SCH_R',\n",
              "       'Rank', 'DATA_S', 'Data_Sent_To_BS', 'Dist_CH_To_BS', 'Send_code',\n",
              "       'Consumed_Energy', 'Attack_Type'],\n",
              "      dtype='object')"
            ]
          },
          "execution_count": 7,
          "metadata": {},
          "output_type": "execute_result"
        }
      ],
      "source": [
        "df.columns"
      ],
      "id": "vCJBaos3-okr"
    },
    {
      "cell_type": "code",
      "execution_count": null,
      "metadata": {
        "id": "rsnMX5P3-okt"
      },
      "outputs": [],
      "source": [
        "from sklearn.preprocessing import LabelEncoder\n",
        "var_mod = ['Attack_Type']\n",
        "le = LabelEncoder()\n",
        "for i in var_mod:\n",
        "    df[i] = le.fit_transform(df[i]).astype(int)"
      ],
      "id": "rsnMX5P3-okt"
    },
    {
      "cell_type": "code",
      "execution_count": null,
      "metadata": {
        "id": "8TrihMpz-okv"
      },
      "outputs": [],
      "source": [
        "#preprocessing, split test and dataset, split response variable\n",
        "X = df.drop(labels='Attack_Type', axis=1)\n",
        "#Response variable\n",
        "y = df.loc[:,'Attack_Type']    "
      ],
      "id": "8TrihMpz-okv"
    },
    {
      "cell_type": "code",
      "execution_count": null,
      "metadata": {
        "id": "sYWzH8vs-okw",
        "outputId": "2b0683d6-541c-4aa4-9d6c-8c4a5a70634e"
      },
      "outputs": [
        {
          "name": "stdout",
          "output_type": "stream",
          "text": [
            "Number of training dataset:  350\n",
            "Number of test dataset:  150\n",
            "Total number of dataset:  500\n"
          ]
        }
      ],
      "source": [
        "from sklearn.model_selection import train_test_split\n",
        "X_train, X_test, y_train, y_test = train_test_split(X, y, test_size=0.30, random_state=1, stratify=y)\n",
        "print(\"Number of training dataset: \", len(X_train))\n",
        "print(\"Number of test dataset: \", len(X_test))\n",
        "print(\"Total number of dataset: \", len(X_train)+len(X_test))"
      ],
      "id": "sYWzH8vs-okw"
    },
    {
      "cell_type": "code",
      "execution_count": null,
      "metadata": {
        "id": "3jcJqLqs-oky"
      },
      "outputs": [],
      "source": [
        "from sklearn.metrics import accuracy_score, confusion_matrix, classification_report\n",
        "from sklearn.neural_network import MLPClassifier\n",
        "from sklearn.model_selection import cross_val_score"
      ],
      "id": "3jcJqLqs-oky"
    },
    {
      "cell_type": "code",
      "execution_count": null,
      "metadata": {
        "id": "4QrTCENR-okz",
        "outputId": "8fbb3575-a44f-4e4a-db5c-6721bed16b91"
      },
      "outputs": [
        {
          "name": "stdout",
          "output_type": "stream",
          "text": [
            "\n",
            "Classification report of MLP Results:\n",
            "\n",
            "              precision    recall  f1-score   support\n",
            "\n",
            "           0       0.00      0.00      0.00        30\n",
            "           1       0.00      0.00      0.00        30\n",
            "           2       0.00      0.00      0.00        30\n",
            "           3       0.20      1.00      0.33        30\n",
            "           4       0.00      0.00      0.00        30\n",
            "\n",
            "    accuracy                           0.20       150\n",
            "   macro avg       0.04      0.20      0.07       150\n",
            "weighted avg       0.04      0.20      0.07       150\n",
            "\n",
            "\n",
            "Confusion Matrix result of MLP is:\n",
            " [[ 0  0  0 30  0]\n",
            " [ 0  0  0 30  0]\n",
            " [ 0  0  0 30  0]\n",
            " [ 0  0  0 30  0]\n",
            " [ 0  0  0 30  0]]\n",
            "\n",
            "Accuracy of MLP is: 20.0\n"
          ]
        }
      ],
      "source": [
        "mlp = MLPClassifier()\n",
        "mlp.fit(X_train,y_train)\n",
        "predictmlp = mlp.predict(X_test)\n",
        "\n",
        "print(\"\")\n",
        "print('Classification report of MLP Results:')\n",
        "print(\"\")\n",
        "print(classification_report(y_test,predictmlp))\n",
        "\n",
        "print(\"\")\n",
        "cm1=confusion_matrix(y_test,predictmlp)\n",
        "print('Confusion Matrix result of MLP is:\\n',cm1)\n",
        "print(\"\")\n",
        "\n",
        "accuracy = accuracy_score(y_test, predictmlp)\n",
        "print('Accuracy of MLP is:', accuracy*100)"
      ],
      "id": "4QrTCENR-okz"
    },
    {
      "cell_type": "code",
      "execution_count": null,
      "metadata": {
        "id": "GELHAlPx-ok0"
      },
      "outputs": [],
      "source": [],
      "id": "GELHAlPx-ok0"
    },
    {
      "cell_type": "code",
      "execution_count": null,
      "metadata": {
        "id": "Ey5fntQ0-ok1"
      },
      "outputs": [],
      "source": [],
      "id": "Ey5fntQ0-ok1"
    },
    {
      "cell_type": "code",
      "execution_count": null,
      "metadata": {
        "id": "cN9Lq97w-ok1"
      },
      "outputs": [],
      "source": [],
      "id": "cN9Lq97w-ok1"
    }
  ],
  "metadata": {
    "kernelspec": {
      "display_name": "Python 3",
      "language": "python",
      "name": "python3"
    },
    "language_info": {
      "codemirror_mode": {
        "name": "ipython",
        "version": 3
      },
      "file_extension": ".py",
      "mimetype": "text/x-python",
      "name": "python",
      "nbconvert_exporter": "python",
      "pygments_lexer": "ipython3",
      "version": "3.8.5"
    },
    "colab": {
      "provenance": [],
      "include_colab_link": true
    }
  },
  "nbformat": 4,
  "nbformat_minor": 5
}
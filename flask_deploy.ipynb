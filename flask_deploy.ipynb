{
  "cells": [
    {
      "cell_type": "markdown",
      "metadata": {
        "id": "view-in-github",
        "colab_type": "text"
      },
      "source": [
        "<a href=\"https://colab.research.google.com/github/Lokeshreddy26/Final-year-project-2023/blob/main/flask_deploy.ipynb\" target=\"_parent\"><img src=\"https://colab.research.google.com/assets/colab-badge.svg\" alt=\"Open In Colab\"/></a>"
      ]
    },
    {
      "cell_type": "code",
      "execution_count": null,
      "metadata": {
        "id": "SBRRXAlZ-RUs",
        "outputId": "712a0728-5904-46d8-80a6-76b21b5ad209"
      },
      "outputs": [
        {
          "name": "stdout",
          "output_type": "stream",
          "text": [
            " * Serving Flask app \"__main__\" (lazy loading)\n",
            " * Environment: production\n",
            "   WARNING: This is a development server. Do not use it in a production deployment.\n",
            "   Use a production WSGI server instead.\n",
            " * Debug mode: off\n"
          ]
        },
        {
          "name": "stderr",
          "output_type": "stream",
          "text": [
            " * Running on http://localhost:5000/ (Press CTRL+C to quit)\n",
            "127.0.0.1 - - [26/Nov/2022 17:15:40] \"\u001b[37mGET / HTTP/1.1\u001b[0m\" 200 -\n"
          ]
        }
      ],
      "source": [
        "import numpy as np\n",
        "from flask import Flask, request, jsonify, render_template\n",
        "import pickle\n",
        "import joblib\n",
        "\n",
        "app = Flask(__name__)\n",
        "model = joblib.load('gbc.pkl')\n",
        "\n",
        "@app.route('/')\n",
        "def home():\n",
        "    return render_template('index.html')\n",
        "\n",
        "@app.route('/predict',methods=['POST'])\n",
        "def predict():\n",
        "    '''\n",
        "    For rendering results on HTML GUI\n",
        "    '''\n",
        "    int_features = [(x) for x in request.form.values()]\n",
        "    final_features = [np.array(int_features)]\n",
        "    print(final_features)\n",
        "    prediction = model.predict(final_features)\n",
        "\n",
        "    output = prediction[0]\n",
        "    if output==0:\n",
        "        output=\"Black Hole Attack is Attacked\"\n",
        "    elif output==1:\n",
        "        output=\"Flooding Attack is Attacked\"\n",
        "    elif output==2:\n",
        "        output=\"Gray Hole Attack is Attacked\"\n",
        "    elif output==3:\n",
        "        output=\"Normal\"\n",
        "    else:\n",
        "        output=\"Scheduling Attack is Attacked\"\n",
        "    \n",
        "\n",
        "    return render_template('index.html',prediction_text=output)\n",
        "\n",
        "if __name__ == \"__main__\":\n",
        "    app.run(host=\"localhost\", port=5000)\n"
      ],
      "id": "SBRRXAlZ-RUs"
    },
    {
      "cell_type": "code",
      "execution_count": null,
      "metadata": {
        "id": "7NuJlMMm-RUw"
      },
      "outputs": [],
      "source": [],
      "id": "7NuJlMMm-RUw"
    },
    {
      "cell_type": "code",
      "execution_count": null,
      "metadata": {
        "id": "F6ZbXoG1-RUw"
      },
      "outputs": [],
      "source": [],
      "id": "F6ZbXoG1-RUw"
    }
  ],
  "metadata": {
    "kernelspec": {
      "display_name": "Python 3",
      "language": "python",
      "name": "python3"
    },
    "language_info": {
      "codemirror_mode": {
        "name": "ipython",
        "version": 3
      },
      "file_extension": ".py",
      "mimetype": "text/x-python",
      "name": "python",
      "nbconvert_exporter": "python",
      "pygments_lexer": "ipython3",
      "version": "3.8.5"
    },
    "colab": {
      "provenance": [],
      "include_colab_link": true
    }
  },
  "nbformat": 4,
  "nbformat_minor": 5
}
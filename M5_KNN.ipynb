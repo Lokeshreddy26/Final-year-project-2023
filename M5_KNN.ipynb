{
  "cells": [
    {
      "cell_type": "markdown",
      "metadata": {
        "id": "view-in-github",
        "colab_type": "text"
      },
      "source": [
        "<a href=\"https://colab.research.google.com/github/Lokeshreddy26/Final-year-project-2023/blob/main/M5_KNN.ipynb\" target=\"_parent\"><img src=\"https://colab.research.google.com/assets/colab-badge.svg\" alt=\"Open In Colab\"/></a>"
      ]
    },
    {
      "cell_type": "markdown",
      "metadata": {
        "id": "UvkgY4_q8poV"
      },
      "source": [
        "# Module - 5 KNN"
      ],
      "id": "UvkgY4_q8poV"
    },
    {
      "cell_type": "code",
      "execution_count": null,
      "metadata": {
        "id": "Vd2_Et788poj"
      },
      "outputs": [],
      "source": [
        "import pandas as p\n",
        "import numpy as n\n",
        "import seaborn as s\n",
        "import matplotlib.pyplot as plt"
      ],
      "id": "Vd2_Et788poj"
    },
    {
      "cell_type": "code",
      "execution_count": null,
      "metadata": {
        "id": "8JY71MWW8poo"
      },
      "outputs": [],
      "source": [
        "import warnings\n",
        "warnings.filterwarnings('ignore')"
      ],
      "id": "8JY71MWW8poo"
    },
    {
      "cell_type": "code",
      "execution_count": null,
      "metadata": {
        "id": "uxwpsTn58poq"
      },
      "outputs": [],
      "source": [
        "data=p.read_excel('WSND.xlsx')"
      ],
      "id": "uxwpsTn58poq"
    },
    {
      "cell_type": "code",
      "execution_count": null,
      "metadata": {
        "id": "rS0FqCcn8pos"
      },
      "outputs": [],
      "source": [
        "df=data.dropna()"
      ],
      "id": "rS0FqCcn8pos"
    },
    {
      "cell_type": "code",
      "execution_count": null,
      "metadata": {
        "id": "jDO3xgLW8pot",
        "outputId": "201422f4-a729-428d-e193-b2e915ad36bd"
      },
      "outputs": [
        {
          "data": {
            "text/plain": [
              "Index(['Id', 'Time', 'Is_CH', 'Who_CH', 'Dist_To_CH', 'ADV_S', 'ADV_R',\n",
              "       'JOIN_S', 'JOIN_R', 'SCH_S', 'SCH_R', 'Rank', 'DATA_S', 'DATA_R',\n",
              "       'Data_Sent_To_BS', 'Dist_CH_To_BS', 'Send_code', 'Consumed_Energy',\n",
              "       'Attack_Type'],\n",
              "      dtype='object')"
            ]
          },
          "execution_count": 5,
          "metadata": {},
          "output_type": "execute_result"
        }
      ],
      "source": [
        "df.columns"
      ],
      "id": "jDO3xgLW8pot"
    },
    {
      "cell_type": "code",
      "execution_count": null,
      "metadata": {
        "id": "oQj-thsx8pox"
      },
      "outputs": [],
      "source": [
        "del df['Id']\n",
        "del df['Time']\n",
        "del df['Is_CH']\n",
        "del df['JOIN_R']\n",
        "del df['DATA_R']"
      ],
      "id": "oQj-thsx8pox"
    },
    {
      "cell_type": "code",
      "execution_count": null,
      "metadata": {
        "id": "Bq0gOyja8poz",
        "outputId": "a63ceb0f-b83b-4ba3-f76b-ac888342e1bf"
      },
      "outputs": [
        {
          "data": {
            "text/plain": [
              "Index(['Who_CH', 'Dist_To_CH', 'ADV_S', 'ADV_R', 'JOIN_S', 'SCH_S', 'SCH_R',\n",
              "       'Rank', 'DATA_S', 'Data_Sent_To_BS', 'Dist_CH_To_BS', 'Send_code',\n",
              "       'Consumed_Energy', 'Attack_Type'],\n",
              "      dtype='object')"
            ]
          },
          "execution_count": 7,
          "metadata": {},
          "output_type": "execute_result"
        }
      ],
      "source": [
        "df.columns"
      ],
      "id": "Bq0gOyja8poz"
    },
    {
      "cell_type": "code",
      "execution_count": null,
      "metadata": {
        "id": "PgwdZ4_S8po1"
      },
      "outputs": [],
      "source": [
        "from sklearn.preprocessing import LabelEncoder\n",
        "var_mod = ['Attack_Type']\n",
        "le = LabelEncoder()\n",
        "for i in var_mod:\n",
        "    df[i] = le.fit_transform(df[i]).astype(int)"
      ],
      "id": "PgwdZ4_S8po1"
    },
    {
      "cell_type": "code",
      "execution_count": null,
      "metadata": {
        "id": "n91sKGdJ8po3"
      },
      "outputs": [],
      "source": [
        "#preprocessing, split test and dataset, split response variable\n",
        "X = df.drop(labels='Attack_Type', axis=1)\n",
        "#Response variable\n",
        "y = df.loc[:,'Attack_Type']    "
      ],
      "id": "n91sKGdJ8po3"
    },
    {
      "cell_type": "code",
      "execution_count": null,
      "metadata": {
        "id": "AgSgIZAH8po5",
        "outputId": "75126689-821f-4118-8017-f9d50a589752"
      },
      "outputs": [
        {
          "name": "stdout",
          "output_type": "stream",
          "text": [
            "Number of training dataset:  350\n",
            "Number of test dataset:  150\n",
            "Total number of dataset:  500\n"
          ]
        }
      ],
      "source": [
        "from sklearn.model_selection import train_test_split\n",
        "X_train, X_test, y_train, y_test = train_test_split(X, y, test_size=0.30, random_state=1, stratify=y)\n",
        "print(\"Number of training dataset: \", len(X_train))\n",
        "print(\"Number of test dataset: \", len(X_test))\n",
        "print(\"Total number of dataset: \", len(X_train)+len(X_test))\n"
      ],
      "id": "AgSgIZAH8po5"
    },
    {
      "cell_type": "code",
      "execution_count": null,
      "metadata": {
        "id": "DmAnq6gO8po7"
      },
      "outputs": [],
      "source": [
        "from sklearn.metrics import accuracy_score, confusion_matrix, classification_report\n",
        "from sklearn.neighbors import KNeighborsClassifier\n",
        "from sklearn.model_selection import cross_val_score"
      ],
      "id": "DmAnq6gO8po7"
    },
    {
      "cell_type": "code",
      "execution_count": null,
      "metadata": {
        "id": "RC8NDEM68po9",
        "outputId": "f1868291-6446-4f03-fc19-0bc8cf493f66"
      },
      "outputs": [
        {
          "name": "stdout",
          "output_type": "stream",
          "text": [
            "\n",
            "Classification report of KNN Results:\n",
            "\n",
            "              precision    recall  f1-score   support\n",
            "\n",
            "           0       1.00      1.00      1.00        30\n",
            "           1       1.00      1.00      1.00        30\n",
            "           2       1.00      1.00      1.00        30\n",
            "           3       1.00      1.00      1.00        30\n",
            "           4       1.00      1.00      1.00        30\n",
            "\n",
            "    accuracy                           1.00       150\n",
            "   macro avg       1.00      1.00      1.00       150\n",
            "weighted avg       1.00      1.00      1.00       150\n",
            "\n",
            "\n",
            "Confusion Matrix result of KNN is:\n",
            " [[30  0  0  0  0]\n",
            " [ 0 30  0  0  0]\n",
            " [ 0  0 30  0  0]\n",
            " [ 0  0  0 30  0]\n",
            " [ 0  0  0  0 30]]\n",
            "\n",
            "Accuracy of KNN is: 100.0\n"
          ]
        }
      ],
      "source": [
        "knn = KNeighborsClassifier()\n",
        "knn.fit(X_train,y_train)\n",
        "predictknn = knn.predict(X_test)\n",
        "\n",
        "print(\"\")\n",
        "print('Classification report of KNN Results:')\n",
        "print(\"\")\n",
        "print(classification_report(y_test,predictknn))\n",
        "\n",
        "print(\"\")\n",
        "cm1=confusion_matrix(y_test,predictknn)\n",
        "print('Confusion Matrix result of KNN is:\\n',cm1)\n",
        "print(\"\")\n",
        "\n",
        "accuracy = accuracy_score(y_test, predictknn)\n",
        "print('Accuracy of KNN is:', accuracy*100)"
      ],
      "id": "RC8NDEM68po9"
    },
    {
      "cell_type": "code",
      "execution_count": null,
      "metadata": {
        "id": "023PcAU18po_"
      },
      "outputs": [],
      "source": [],
      "id": "023PcAU18po_"
    },
    {
      "cell_type": "code",
      "execution_count": null,
      "metadata": {
        "id": "ee9ytjDK8po_"
      },
      "outputs": [],
      "source": [],
      "id": "ee9ytjDK8po_"
    },
    {
      "cell_type": "code",
      "execution_count": null,
      "metadata": {
        "id": "cGYTctJ88ppA"
      },
      "outputs": [],
      "source": [],
      "id": "cGYTctJ88ppA"
    }
  ],
  "metadata": {
    "kernelspec": {
      "display_name": "Python 3",
      "language": "python",
      "name": "python3"
    },
    "language_info": {
      "codemirror_mode": {
        "name": "ipython",
        "version": 3
      },
      "file_extension": ".py",
      "mimetype": "text/x-python",
      "name": "python",
      "nbconvert_exporter": "python",
      "pygments_lexer": "ipython3",
      "version": "3.8.5"
    },
    "colab": {
      "provenance": [],
      "include_colab_link": true
    }
  },
  "nbformat": 4,
  "nbformat_minor": 5
}